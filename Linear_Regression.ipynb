{
 "cells": [
  {
   "cell_type": "markdown",
   "metadata": {
    "id": "wmVp7p7YiAOY"
   },
   "source": [
    "## **Roadway to apply linear regression model through A-Z preprocessing**"
   ]
  },
  {
   "cell_type": "markdown",
   "metadata": {
    "id": "FEEKaj86lVc_"
   },
   "source": [
    "Description for the steps in this Notebook is available on https://medium.com/@gayani.nisansala.blog/machine-learning-model-from-scratch-using-weather-in-szeged-2006-2016-dataset-16edad3a1db4"
   ]
  },
  {
   "cell_type": "markdown",
   "metadata": {
    "id": "VV6ZZEFohtQf"
   },
   "source": [
    "### **Discovering the Dataset**\n",
    "Before starting with use case, we need to explore the dataset for better understanding."
   ]
  },
  {
   "cell_type": "code",
   "execution_count": 1,
   "metadata": {
    "id": "j99THsZHguEc"
   },
   "outputs": [],
   "source": [
    "# importing basic python libraries\n",
    "import pandas as pd\n",
    "import numpy as np\n",
    "import matplotlib.pyplot as plt\n",
    "import seaborn as sns\n",
    "import warnings\n",
    "import scipy.stats as stats\n",
    "warnings.filterwarnings(\"ignore\")"
   ]
  },
  {
   "cell_type": "code",
   "execution_count": 2,
   "metadata": {
    "colab": {
     "base_uri": "https://localhost:8080/"
    },
    "id": "bfxs29NVhyQr",
    "outputId": "7116d077-b3f7-4ce5-dc10-1fa9ad7c44cb"
   },
   "outputs": [],
   "source": [
    "# Steps to mount the google drive to Google Colab and read the dataset from the google drive\n",
    "\n",
    "# # mounting the google drive to Google Colab\n",
    "# from google.colab import drive\n",
    "# drive.mount(\"/content/gdrive\")\n",
    "\n",
    "# # read .csv file by .read_csv() funtion and create a dataframe\n",
    "# weather_dataset = pd.read_csv(\"/content/gdrive/My Drive/ML Data/weatherHistory.csv\")\n",
    "# weather_dataset.head(5)"
   ]
  },
  {
   "cell_type": "code",
   "execution_count": 3,
   "metadata": {
    "colab": {
     "base_uri": "https://localhost:8080/",
     "height": 513
    },
    "id": "sn7GVTI1hznh",
    "outputId": "334c01a0-9922-431f-a9e4-225100b37ea9"
   },
   "outputs": [
    {
     "data": {
      "text/html": [
       "<div>\n",
       "<style scoped>\n",
       "    .dataframe tbody tr th:only-of-type {\n",
       "        vertical-align: middle;\n",
       "    }\n",
       "\n",
       "    .dataframe tbody tr th {\n",
       "        vertical-align: top;\n",
       "    }\n",
       "\n",
       "    .dataframe thead th {\n",
       "        text-align: right;\n",
       "    }\n",
       "</style>\n",
       "<table border=\"1\" class=\"dataframe\">\n",
       "  <thead>\n",
       "    <tr style=\"text-align: right;\">\n",
       "      <th></th>\n",
       "      <th>Formatted Date</th>\n",
       "      <th>Summary</th>\n",
       "      <th>Precip Type</th>\n",
       "      <th>Temperature (C)</th>\n",
       "      <th>Apparent Temperature (C)</th>\n",
       "      <th>Humidity</th>\n",
       "      <th>Wind Speed (km/h)</th>\n",
       "      <th>Wind Bearing (degrees)</th>\n",
       "      <th>Visibility (km)</th>\n",
       "      <th>Loud Cover</th>\n",
       "      <th>Pressure (millibars)</th>\n",
       "      <th>Daily Summary</th>\n",
       "    </tr>\n",
       "  </thead>\n",
       "  <tbody>\n",
       "    <tr>\n",
       "      <th>0</th>\n",
       "      <td>2006-04-01 00:00:00.000 +0200</td>\n",
       "      <td>Partly Cloudy</td>\n",
       "      <td>rain</td>\n",
       "      <td>9.472222</td>\n",
       "      <td>7.388889</td>\n",
       "      <td>0.89</td>\n",
       "      <td>14.1197</td>\n",
       "      <td>251.0</td>\n",
       "      <td>15.8263</td>\n",
       "      <td>0.0</td>\n",
       "      <td>1015.13</td>\n",
       "      <td>Partly cloudy throughout the day.</td>\n",
       "    </tr>\n",
       "    <tr>\n",
       "      <th>1</th>\n",
       "      <td>2006-04-01 01:00:00.000 +0200</td>\n",
       "      <td>Partly Cloudy</td>\n",
       "      <td>rain</td>\n",
       "      <td>9.355556</td>\n",
       "      <td>7.227778</td>\n",
       "      <td>0.86</td>\n",
       "      <td>14.2646</td>\n",
       "      <td>259.0</td>\n",
       "      <td>15.8263</td>\n",
       "      <td>0.0</td>\n",
       "      <td>1015.63</td>\n",
       "      <td>Partly cloudy throughout the day.</td>\n",
       "    </tr>\n",
       "    <tr>\n",
       "      <th>2</th>\n",
       "      <td>2006-04-01 02:00:00.000 +0200</td>\n",
       "      <td>Mostly Cloudy</td>\n",
       "      <td>rain</td>\n",
       "      <td>9.377778</td>\n",
       "      <td>9.377778</td>\n",
       "      <td>0.89</td>\n",
       "      <td>3.9284</td>\n",
       "      <td>204.0</td>\n",
       "      <td>14.9569</td>\n",
       "      <td>0.0</td>\n",
       "      <td>1015.94</td>\n",
       "      <td>Partly cloudy throughout the day.</td>\n",
       "    </tr>\n",
       "    <tr>\n",
       "      <th>3</th>\n",
       "      <td>2006-04-01 03:00:00.000 +0200</td>\n",
       "      <td>Partly Cloudy</td>\n",
       "      <td>rain</td>\n",
       "      <td>8.288889</td>\n",
       "      <td>5.944444</td>\n",
       "      <td>0.83</td>\n",
       "      <td>14.1036</td>\n",
       "      <td>269.0</td>\n",
       "      <td>15.8263</td>\n",
       "      <td>0.0</td>\n",
       "      <td>1016.41</td>\n",
       "      <td>Partly cloudy throughout the day.</td>\n",
       "    </tr>\n",
       "    <tr>\n",
       "      <th>4</th>\n",
       "      <td>2006-04-01 04:00:00.000 +0200</td>\n",
       "      <td>Mostly Cloudy</td>\n",
       "      <td>rain</td>\n",
       "      <td>8.755556</td>\n",
       "      <td>6.977778</td>\n",
       "      <td>0.83</td>\n",
       "      <td>11.0446</td>\n",
       "      <td>259.0</td>\n",
       "      <td>15.8263</td>\n",
       "      <td>0.0</td>\n",
       "      <td>1016.51</td>\n",
       "      <td>Partly cloudy throughout the day.</td>\n",
       "    </tr>\n",
       "  </tbody>\n",
       "</table>\n",
       "</div>"
      ],
      "text/plain": [
       "                  Formatted Date        Summary Precip Type  Temperature (C)  \\\n",
       "0  2006-04-01 00:00:00.000 +0200  Partly Cloudy        rain         9.472222   \n",
       "1  2006-04-01 01:00:00.000 +0200  Partly Cloudy        rain         9.355556   \n",
       "2  2006-04-01 02:00:00.000 +0200  Mostly Cloudy        rain         9.377778   \n",
       "3  2006-04-01 03:00:00.000 +0200  Partly Cloudy        rain         8.288889   \n",
       "4  2006-04-01 04:00:00.000 +0200  Mostly Cloudy        rain         8.755556   \n",
       "\n",
       "   Apparent Temperature (C)  Humidity  Wind Speed (km/h)  \\\n",
       "0                  7.388889      0.89            14.1197   \n",
       "1                  7.227778      0.86            14.2646   \n",
       "2                  9.377778      0.89             3.9284   \n",
       "3                  5.944444      0.83            14.1036   \n",
       "4                  6.977778      0.83            11.0446   \n",
       "\n",
       "   Wind Bearing (degrees)  Visibility (km)  Loud Cover  Pressure (millibars)  \\\n",
       "0                   251.0          15.8263         0.0               1015.13   \n",
       "1                   259.0          15.8263         0.0               1015.63   \n",
       "2                   204.0          14.9569         0.0               1015.94   \n",
       "3                   269.0          15.8263         0.0               1016.41   \n",
       "4                   259.0          15.8263         0.0               1016.51   \n",
       "\n",
       "                       Daily Summary  \n",
       "0  Partly cloudy throughout the day.  \n",
       "1  Partly cloudy throughout the day.  \n",
       "2  Partly cloudy throughout the day.  \n",
       "3  Partly cloudy throughout the day.  \n",
       "4  Partly cloudy throughout the day.  "
      ]
     },
     "execution_count": 3,
     "metadata": {},
     "output_type": "execute_result"
    }
   ],
   "source": [
    "# read .csv file by .read_csv() funtion and create a dataframe\n",
    "weather_dataset = pd.read_csv(\"weatherHistory.csv\")\n",
    "weather_dataset.head(5)"
   ]
  },
  {
   "cell_type": "code",
   "execution_count": 4,
   "metadata": {
    "colab": {
     "base_uri": "https://localhost:8080/"
    },
    "id": "hXPcf3LMpTLX",
    "outputId": "928b6c69-a5ee-4b58-f7ae-4854a447c7f1"
   },
   "outputs": [
    {
     "name": "stdout",
     "output_type": "stream",
     "text": [
      "<class 'pandas.core.frame.DataFrame'>\n",
      "RangeIndex: 96453 entries, 0 to 96452\n",
      "Data columns (total 12 columns):\n",
      " #   Column                    Non-Null Count  Dtype  \n",
      "---  ------                    --------------  -----  \n",
      " 0   Formatted Date            96453 non-null  object \n",
      " 1   Summary                   96453 non-null  object \n",
      " 2   Precip Type               95936 non-null  object \n",
      " 3   Temperature (C)           96453 non-null  float64\n",
      " 4   Apparent Temperature (C)  96453 non-null  float64\n",
      " 5   Humidity                  96453 non-null  float64\n",
      " 6   Wind Speed (km/h)         96453 non-null  float64\n",
      " 7   Wind Bearing (degrees)    96453 non-null  float64\n",
      " 8   Visibility (km)           96453 non-null  float64\n",
      " 9   Loud Cover                96453 non-null  float64\n",
      " 10  Pressure (millibars)      96453 non-null  float64\n",
      " 11  Daily Summary             96453 non-null  object \n",
      "dtypes: float64(8), object(4)\n",
      "memory usage: 8.8+ MB\n"
     ]
    }
   ],
   "source": [
    "# gives a concise summary of the weather_dataset dataframe\n",
    "weather_dataset.info()"
   ]
  },
  {
   "cell_type": "code",
   "execution_count": 5,
   "metadata": {
    "colab": {
     "base_uri": "https://localhost:8080/",
     "height": 314
    },
    "id": "XC2flH3MeuTS",
    "outputId": "96835d69-ac0b-43bf-a2d7-6cf0f88ce5cb"
   },
   "outputs": [
    {
     "data": {
      "text/html": [
       "<div>\n",
       "<style scoped>\n",
       "    .dataframe tbody tr th:only-of-type {\n",
       "        vertical-align: middle;\n",
       "    }\n",
       "\n",
       "    .dataframe tbody tr th {\n",
       "        vertical-align: top;\n",
       "    }\n",
       "\n",
       "    .dataframe thead th {\n",
       "        text-align: right;\n",
       "    }\n",
       "</style>\n",
       "<table border=\"1\" class=\"dataframe\">\n",
       "  <thead>\n",
       "    <tr style=\"text-align: right;\">\n",
       "      <th></th>\n",
       "      <th>Temperature (C)</th>\n",
       "      <th>Apparent Temperature (C)</th>\n",
       "      <th>Humidity</th>\n",
       "      <th>Wind Speed (km/h)</th>\n",
       "      <th>Wind Bearing (degrees)</th>\n",
       "      <th>Visibility (km)</th>\n",
       "      <th>Loud Cover</th>\n",
       "      <th>Pressure (millibars)</th>\n",
       "    </tr>\n",
       "  </thead>\n",
       "  <tbody>\n",
       "    <tr>\n",
       "      <th>count</th>\n",
       "      <td>96453.000000</td>\n",
       "      <td>96453.000000</td>\n",
       "      <td>96453.000000</td>\n",
       "      <td>96453.000000</td>\n",
       "      <td>96453.000000</td>\n",
       "      <td>96453.000000</td>\n",
       "      <td>96453.0</td>\n",
       "      <td>96453.000000</td>\n",
       "    </tr>\n",
       "    <tr>\n",
       "      <th>mean</th>\n",
       "      <td>11.932678</td>\n",
       "      <td>10.855029</td>\n",
       "      <td>0.734899</td>\n",
       "      <td>10.810640</td>\n",
       "      <td>187.509232</td>\n",
       "      <td>10.347325</td>\n",
       "      <td>0.0</td>\n",
       "      <td>1003.235956</td>\n",
       "    </tr>\n",
       "    <tr>\n",
       "      <th>std</th>\n",
       "      <td>9.551546</td>\n",
       "      <td>10.696847</td>\n",
       "      <td>0.195473</td>\n",
       "      <td>6.913571</td>\n",
       "      <td>107.383428</td>\n",
       "      <td>4.192123</td>\n",
       "      <td>0.0</td>\n",
       "      <td>116.969906</td>\n",
       "    </tr>\n",
       "    <tr>\n",
       "      <th>min</th>\n",
       "      <td>-21.822222</td>\n",
       "      <td>-27.716667</td>\n",
       "      <td>0.000000</td>\n",
       "      <td>0.000000</td>\n",
       "      <td>0.000000</td>\n",
       "      <td>0.000000</td>\n",
       "      <td>0.0</td>\n",
       "      <td>0.000000</td>\n",
       "    </tr>\n",
       "    <tr>\n",
       "      <th>25%</th>\n",
       "      <td>4.688889</td>\n",
       "      <td>2.311111</td>\n",
       "      <td>0.600000</td>\n",
       "      <td>5.828200</td>\n",
       "      <td>116.000000</td>\n",
       "      <td>8.339800</td>\n",
       "      <td>0.0</td>\n",
       "      <td>1011.900000</td>\n",
       "    </tr>\n",
       "    <tr>\n",
       "      <th>50%</th>\n",
       "      <td>12.000000</td>\n",
       "      <td>12.000000</td>\n",
       "      <td>0.780000</td>\n",
       "      <td>9.965900</td>\n",
       "      <td>180.000000</td>\n",
       "      <td>10.046400</td>\n",
       "      <td>0.0</td>\n",
       "      <td>1016.450000</td>\n",
       "    </tr>\n",
       "    <tr>\n",
       "      <th>75%</th>\n",
       "      <td>18.838889</td>\n",
       "      <td>18.838889</td>\n",
       "      <td>0.890000</td>\n",
       "      <td>14.135800</td>\n",
       "      <td>290.000000</td>\n",
       "      <td>14.812000</td>\n",
       "      <td>0.0</td>\n",
       "      <td>1021.090000</td>\n",
       "    </tr>\n",
       "    <tr>\n",
       "      <th>max</th>\n",
       "      <td>39.905556</td>\n",
       "      <td>39.344444</td>\n",
       "      <td>1.000000</td>\n",
       "      <td>63.852600</td>\n",
       "      <td>359.000000</td>\n",
       "      <td>16.100000</td>\n",
       "      <td>0.0</td>\n",
       "      <td>1046.380000</td>\n",
       "    </tr>\n",
       "  </tbody>\n",
       "</table>\n",
       "</div>"
      ],
      "text/plain": [
       "       Temperature (C)  Apparent Temperature (C)      Humidity  \\\n",
       "count     96453.000000              96453.000000  96453.000000   \n",
       "mean         11.932678                 10.855029      0.734899   \n",
       "std           9.551546                 10.696847      0.195473   \n",
       "min         -21.822222                -27.716667      0.000000   \n",
       "25%           4.688889                  2.311111      0.600000   \n",
       "50%          12.000000                 12.000000      0.780000   \n",
       "75%          18.838889                 18.838889      0.890000   \n",
       "max          39.905556                 39.344444      1.000000   \n",
       "\n",
       "       Wind Speed (km/h)  Wind Bearing (degrees)  Visibility (km)  Loud Cover  \\\n",
       "count       96453.000000            96453.000000     96453.000000     96453.0   \n",
       "mean           10.810640              187.509232        10.347325         0.0   \n",
       "std             6.913571              107.383428         4.192123         0.0   \n",
       "min             0.000000                0.000000         0.000000         0.0   \n",
       "25%             5.828200              116.000000         8.339800         0.0   \n",
       "50%             9.965900              180.000000        10.046400         0.0   \n",
       "75%            14.135800              290.000000        14.812000         0.0   \n",
       "max            63.852600              359.000000        16.100000         0.0   \n",
       "\n",
       "       Pressure (millibars)  \n",
       "count          96453.000000  \n",
       "mean            1003.235956  \n",
       "std              116.969906  \n",
       "min                0.000000  \n",
       "25%             1011.900000  \n",
       "50%             1016.450000  \n",
       "75%             1021.090000  \n",
       "max             1046.380000  "
      ]
     },
     "execution_count": 5,
     "metadata": {},
     "output_type": "execute_result"
    }
   ],
   "source": [
    "# Gives a descriptive statistics about the weather_dataset dataframe\n",
    "weather_dataset.describe()"
   ]
  },
  {
   "cell_type": "code",
   "execution_count": 6,
   "metadata": {
    "colab": {
     "base_uri": "https://localhost:8080/"
    },
    "id": "GezpTy6QrCZl",
    "outputId": "4793b11b-e4ae-48fe-8f5e-3774aa7ac9f7"
   },
   "outputs": [
    {
     "data": {
      "text/plain": [
       "0.0    96453\n",
       "Name: Loud Cover, dtype: int64"
      ]
     },
     "execution_count": 6,
     "metadata": {},
     "output_type": "execute_result"
    }
   ],
   "source": [
    "# shows how the data are grouped in \"Loud Cover\" feature and able to identify 'Loud Cover' feature only exists value 0\n",
    "weather_dataset['Loud Cover'].value_counts()"
   ]
  },
  {
   "cell_type": "code",
   "execution_count": 7,
   "metadata": {
    "id": "0jOZ0xlgfBTR"
   },
   "outputs": [],
   "source": [
    "# drop 'Loud Cover' and 'Daily Summary' features from the weather_dataset dataframe.\n",
    "weather_dataset=weather_dataset.drop(['Loud Cover','Daily Summary'],axis=1)"
   ]
  },
  {
   "cell_type": "markdown",
   "metadata": {
    "id": "eEEHDrKI10-F"
   },
   "source": [
    "### **Handling Missing Values**"
   ]
  },
  {
   "cell_type": "code",
   "execution_count": 8,
   "metadata": {
    "colab": {
     "base_uri": "https://localhost:8080/"
    },
    "id": "A8EIq2CgiN_M",
    "outputId": "34143492-e4f0-4fc4-ee6e-3ab607c34c26"
   },
   "outputs": [
    {
     "data": {
      "text/plain": [
       "Formatted Date                0\n",
       "Summary                       0\n",
       "Precip Type                 517\n",
       "Temperature (C)               0\n",
       "Apparent Temperature (C)      0\n",
       "Humidity                      0\n",
       "Wind Speed (km/h)             0\n",
       "Wind Bearing (degrees)        0\n",
       "Visibility (km)               0\n",
       "Pressure (millibars)          0\n",
       "dtype: int64"
      ]
     },
     "execution_count": 8,
     "metadata": {},
     "output_type": "execute_result"
    }
   ],
   "source": [
    "# display the no of null values that are available in each feature within the weather_dataset dataframe\n",
    "weather_dataset.isnull().sum()"
   ]
  },
  {
   "cell_type": "code",
   "execution_count": 9,
   "metadata": {
    "colab": {
     "base_uri": "https://localhost:8080/"
    },
    "id": "cDGvXua6i26X",
    "outputId": "82d5e04a-8794-433c-a235-d2495323a691"
   },
   "outputs": [
    {
     "data": {
      "text/plain": [
       "rain    85224\n",
       "snow    10712\n",
       "Name: Precip Type, dtype: int64"
      ]
     },
     "execution_count": 9,
     "metadata": {},
     "output_type": "execute_result"
    }
   ],
   "source": [
    "# shows how the data are grouped in \"Precip Type\" feature\n",
    "weather_dataset['Precip Type'].value_counts()"
   ]
  },
  {
   "cell_type": "code",
   "execution_count": 10,
   "metadata": {
    "id": "CktH8_CfjX-u"
   },
   "outputs": [],
   "source": [
    "# drop all the rows which are having null values(In here only droping rows which are having null values for 'Precip Type' feature.)\n",
    "df1 = weather_dataset.dropna()"
   ]
  },
  {
   "cell_type": "code",
   "execution_count": 11,
   "metadata": {
    "colab": {
     "base_uri": "https://localhost:8080/"
    },
    "id": "z_8HvrDJjPax",
    "outputId": "d878c7cb-f47f-4876-f744-afe1c12a50cb"
   },
   "outputs": [
    {
     "name": "stdout",
     "output_type": "stream",
     "text": [
      "shape of the 'weather_dataset' dataframe : (96453, 10)\n",
      "shaped of the 'df1' dataframe : (95936, 10)\n"
     ]
    }
   ],
   "source": [
    "# displaying shape(row count,column count) before and after droping missing values\n",
    "print(f\"shape of the 'weather_dataset' dataframe : {weather_dataset.shape}\")\n",
    "print(f\"shaped of the 'df1' dataframe : {df1.shape}\")"
   ]
  },
  {
   "cell_type": "code",
   "execution_count": 12,
   "metadata": {
    "colab": {
     "base_uri": "https://localhost:8080/"
    },
    "id": "M_jvTe4mjjPw",
    "outputId": "add06db4-7f11-4e61-9c34-34e4e41674d0"
   },
   "outputs": [
    {
     "data": {
      "text/plain": [
       "Formatted Date              0\n",
       "Summary                     0\n",
       "Precip Type                 0\n",
       "Temperature (C)             0\n",
       "Apparent Temperature (C)    0\n",
       "Humidity                    0\n",
       "Wind Speed (km/h)           0\n",
       "Wind Bearing (degrees)      0\n",
       "Visibility (km)             0\n",
       "Pressure (millibars)        0\n",
       "dtype: int64"
      ]
     },
     "execution_count": 12,
     "metadata": {},
     "output_type": "execute_result"
    }
   ],
   "source": [
    "df1.isnull().sum()"
   ]
  },
  {
   "cell_type": "markdown",
   "metadata": {
    "id": "vCfs87vt2DAs"
   },
   "source": [
    "### **Handling Outliers**"
   ]
  },
  {
   "cell_type": "code",
   "execution_count": 13,
   "metadata": {
    "colab": {
     "base_uri": "https://localhost:8080/",
     "height": 188
    },
    "id": "GwIsXES6khtK",
    "outputId": "f8079d63-8d15-433b-95dc-2d9e99d5d324"
   },
   "outputs": [
    {
     "data": {
      "text/plain": [
       "<AxesSubplot:xlabel='Temperature (C)'>"
      ]
     },
     "execution_count": 13,
     "metadata": {},
     "output_type": "execute_result"
    },
    {
     "data": {
      "image/png": "[encoded data removed]",
      "text/plain": [
       "<Figure size 720x144 with 1 Axes>"
      ]
     },
     "metadata": {
      "needs_background": "light"
     },
     "output_type": "display_data"
    }
   ],
   "source": [
    "# box plot for feature 'Temperature (C)'\n",
    "plt.figure(figsize=(10,2))\n",
    "sns.boxplot(df1['Temperature (C)'])"
   ]
  },
  {
   "cell_type": "code",
   "execution_count": 14,
   "metadata": {
    "colab": {
     "base_uri": "https://localhost:8080/",
     "height": 188
    },
    "id": "Umirs-Imet1t",
    "outputId": "88df7425-296c-480c-b3a5-52cd9cdfd401"
   },
   "outputs": [
    {
     "data": {
      "text/plain": [
       "<AxesSubplot:xlabel='Apparent Temperature (C)'>"
      ]
     },
     "execution_count": 14,
     "metadata": {},
     "output_type": "execute_result"
    },
    {
     "data": {
      "image/png": "[encoded data removed]",
      "text/plain": [
       "<Figure size 720x144 with 1 Axes>"
      ]
     },
     "metadata": {
      "needs_background": "light"
     },
     "output_type": "display_data"
    }
   ],
   "source": [
    "# box plot for feature 'Apparent Temperature (C)'\n",
    "plt.figure(figsize=(10,2))\n",
    "sns.boxplot(df1['Apparent Temperature (C)'])"
   ]
  },
  {
   "cell_type": "code",
   "execution_count": 15,
   "metadata": {
    "colab": {
     "base_uri": "https://localhost:8080/",
     "height": 188
    },
    "id": "sbHsGVHHet88",
    "outputId": "ea1e3064-85f4-4bed-bda2-5f7d8c3bc854"
   },
   "outputs": [
    {
     "data": {
      "text/plain": [
       "<AxesSubplot:xlabel='Humidity'>"
      ]
     },
     "execution_count": 15,
     "metadata": {},
     "output_type": "execute_result"
    },
    {
     "data": {
      "image/png": "[encoded data removed]",
      "text/plain": [
       "<Figure size 720x144 with 1 Axes>"
      ]
     },
     "metadata": {
      "needs_background": "light"
     },
     "output_type": "display_data"
    }
   ],
   "source": [
    "# box plot for feature 'Humidity'\n",
    "plt.figure(figsize=(10,2))\n",
    "sns.boxplot(df1['Humidity'])"
   ]
  },
  {
   "cell_type": "code",
   "execution_count": 16,
   "metadata": {
    "colab": {
     "base_uri": "https://localhost:8080/",
     "height": 188
    },
    "id": "JsDywaA6euHp",
    "outputId": "2b5ffdf2-e51c-48c2-d6f8-bff2dc2a19bb"
   },
   "outputs": [
    {
     "data": {
      "text/plain": [
       "<AxesSubplot:xlabel='Wind Speed (km/h)'>"
      ]
     },
     "execution_count": 16,
     "metadata": {},
     "output_type": "execute_result"
    },
    {
     "data": {
      "image/png": "[encoded data removed]",
      "text/plain": [
       "<Figure size 720x144 with 1 Axes>"
      ]
     },
     "metadata": {
      "needs_background": "light"
     },
     "output_type": "display_data"
    }
   ],
   "source": [
    "# box plot for feature 'Wind Speed (km/h)'\n",
    "plt.figure(figsize=(10,2))\n",
    "sns.boxplot(df1['Wind Speed (km/h)'])"
   ]
  },
  {
   "cell_type": "code",
   "execution_count": 17,
   "metadata": {
    "colab": {
     "base_uri": "https://localhost:8080/",
     "height": 188
    },
    "id": "g3GDY37XeuP5",
    "outputId": "49e7c60f-d546-494e-e44f-bf3b6bbfd3fe"
   },
   "outputs": [
    {
     "data": {
      "text/plain": [
       "<AxesSubplot:xlabel='Wind Bearing (degrees)'>"
      ]
     },
     "execution_count": 17,
     "metadata": {},
     "output_type": "execute_result"
    },
    {
     "data": {
      "image/png": "[encoded data removed]",
      "text/plain": [
       "<Figure size 720x144 with 1 Axes>"
      ]
     },
     "metadata": {
      "needs_background": "light"
     },
     "output_type": "display_data"
    }
   ],
   "source": [
    "# box plot for feature 'Wind Bearing (degrees)'\n",
    "plt.figure(figsize=(10,2))\n",
    "sns.boxplot(df1['Wind Bearing (degrees)'])"
   ]
  },
  {
   "cell_type": "code",
   "execution_count": 18,
   "metadata": {
    "colab": {
     "base_uri": "https://localhost:8080/",
     "height": 188
    },
    "id": "Vr1sQZoFfLPR",
    "outputId": "37c506e6-50ae-479a-e221-7a12a6f2d4a4"
   },
   "outputs": [
    {
     "data": {
      "text/plain": [
       "<AxesSubplot:xlabel='Visibility (km)'>"
      ]
     },
     "execution_count": 18,
     "metadata": {},
     "output_type": "execute_result"
    },
    {
     "data": {
      "image/png": "[encoded data removed]",
      "text/plain": [
       "<Figure size 720x144 with 1 Axes>"
      ]
     },
     "metadata": {
      "needs_background": "light"
     },
     "output_type": "display_data"
    }
   ],
   "source": [
    "# box plot for feature 'Visibility (km)'\n",
    "plt.figure(figsize=(10,2))\n",
    "sns.boxplot(df1['Visibility (km)'])"
   ]
  },
  {
   "cell_type": "code",
   "execution_count": 19,
   "metadata": {
    "colab": {
     "base_uri": "https://localhost:8080/",
     "height": 188
    },
    "id": "y0IWhWMRfLVY",
    "outputId": "9c2edcb3-a556-47cc-f73a-45aa245ba12e"
   },
   "outputs": [
    {
     "data": {
      "text/plain": [
       "<AxesSubplot:xlabel='Pressure (millibars)'>"
      ]
     },
     "execution_count": 19,
     "metadata": {},
     "output_type": "execute_result"
    },
    {
     "data": {
      "image/png": "[encoded data removed]",
      "text/plain": [
       "<Figure size 720x144 with 1 Axes>"
      ]
     },
     "metadata": {
      "needs_background": "light"
     },
     "output_type": "display_data"
    }
   ],
   "source": [
    "# box plot for feature 'Pressure (millibars)'\n",
    "plt.figure(figsize=(10,2))\n",
    "sns.boxplot(df1['Pressure (millibars)'])"
   ]
  },
  {
   "cell_type": "code",
   "execution_count": 20,
   "metadata": {
    "colab": {
     "base_uri": "https://localhost:8080/",
     "height": 557
    },
    "id": "6PlrluOo8sx4",
    "outputId": "66937c6d-b125-47cd-b03f-87471afe4397"
   },
   "outputs": [
    {
     "data": {
      "text/plain": [
       "<AxesSubplot:xlabel='Pressure (millibars)'>"
      ]
     },
     "execution_count": 20,
     "metadata": {},
     "output_type": "execute_result"
    },
    {
     "data": {
      "image/png": "[encoded data removed]",
      "text/plain": [
       "<Figure size 864x504 with 7 Axes>"
      ]
     },
     "metadata": {
      "needs_background": "light"
     },
     "output_type": "display_data"
    }
   ],
   "source": [
    "import warnings\n",
    "warnings.filterwarnings(\"ignore\")\n",
    "\n",
    "plt.figure(figsize=(12,7))\n",
    "plt.subplot(4,2,1)\n",
    "plt.tight_layout(h_pad=6)\n",
    "sns.boxplot(df1['Temperature (C)'])\n",
    "\n",
    "plt.subplot(4,2,2)\n",
    "sns.boxplot(df1['Apparent Temperature (C)'])\n",
    "\n",
    "plt.subplot(4,2,3)\n",
    "sns.boxplot(df1['Humidity'])\n",
    "\n",
    "plt.subplot(4,2,4)\n",
    "sns.boxplot(df1['Wind Speed (km/h)'])\n",
    "\n",
    "plt.subplot(4,2,5)\n",
    "sns.boxplot(df1['Wind Bearing (degrees)'])\n",
    "\n",
    "plt.subplot(4,2,6)\n",
    "sns.boxplot(df1['Visibility (km)'])\n",
    "\n",
    "plt.subplot(4,2,7)\n",
    "sns.boxplot(df1['Pressure (millibars)'])"
   ]
  },
  {
   "cell_type": "code",
   "execution_count": 21,
   "metadata": {
    "id": "z8XfwRXMraG6"
   },
   "outputs": [],
   "source": [
    "# define the min and max values of data spread to filter out outliers\n",
    "min_value = df1.quantile(0.05)\n",
    "max_value = df1.quantile(0.95)"
   ]
  },
  {
   "cell_type": "code",
   "execution_count": 22,
   "metadata": {
    "colab": {
     "base_uri": "https://localhost:8080/"
    },
    "id": "KiEEIgv8HKR7",
    "outputId": "7de771f2-5364-4d8d-d6d5-24e51113abfa"
   },
   "outputs": [
    {
     "name": "stdout",
     "output_type": "stream",
     "text": [
      "shape of the dataframes which includes all outliers need to be removed in features --> Humidity : (9121, 10) Wind Speed : (9575, 10) Pressure : (9589, 10)\n"
     ]
    }
   ],
   "source": [
    "# display the shape of the dataframes which includes the data within the range less than minimum quantile or greater than the maximum quantile.\n",
    "eligible_outliers_humidity = df1[(df1['Humidity']<min_value['Humidity']) | (df1['Humidity']>max_value['Humidity'])].shape\n",
    "eligible_outliers_windspeed = df1[(df1['Wind Speed (km/h)']<min_value['Wind Speed (km/h)']) | (df1['Wind Speed (km/h)']>max_value['Wind Speed (km/h)'])].shape\n",
    "eligible_outliers_pressure = df1[(df1['Pressure (millibars)']<min_value['Pressure (millibars)']) | (df1['Pressure (millibars)']>max_value['Pressure (millibars)'])].shape\n",
    "\n",
    "print(f\"shape of the dataframes which includes all outliers need to be removed in features --> Humidity : {eligible_outliers_humidity} Wind Speed : {eligible_outliers_windspeed} Pressure : {eligible_outliers_pressure}\")"
   ]
  },
  {
   "cell_type": "code",
   "execution_count": 23,
   "metadata": {
    "id": "0d6iwyWjpPWq"
   },
   "outputs": [],
   "source": [
    "# removing outliers\n",
    "df_without_outliers = df1[(df1['Wind Speed (km/h)']>min_value['Wind Speed (km/h)']) & (df1['Wind Speed (km/h)']<max_value['Wind Speed (km/h)']) & (df1['Humidity']>min_value['Humidity']) & (df1['Humidity']<max_value['Humidity'])& (df1['Pressure (millibars)']>min_value['Pressure (millibars)']) & (df1['Pressure (millibars)']<max_value['Pressure (millibars)'])]"
   ]
  },
  {
   "cell_type": "code",
   "execution_count": 24,
   "metadata": {
    "colab": {
     "base_uri": "https://localhost:8080/"
    },
    "id": "5sHiZqMSuhuu",
    "outputId": "74911750-6a10-4ffa-e781-ef93ad2fa315"
   },
   "outputs": [
    {
     "name": "stdout",
     "output_type": "stream",
     "text": [
      "shape of the dataframe before removing outliers : (95936, 10)\n",
      "shape of the dataframe after removing outliers : (69827, 10)\n"
     ]
    }
   ],
   "source": [
    "# displaying shape(row count,column count) before and after removing outliers.\n",
    "print(f\"shape of the dataframe before removing outliers : {df1.shape}\")\n",
    "print(f\"shape of the dataframe after removing outliers : {df_without_outliers.shape}\")"
   ]
  },
  {
   "cell_type": "code",
   "execution_count": 25,
   "metadata": {
    "colab": {
     "base_uri": "https://localhost:8080/",
     "height": 557
    },
    "id": "d1AMmNR7hoDK",
    "outputId": "1aa01fdf-cf1f-429f-a81b-ddcffc9a5b97"
   },
   "outputs": [
    {
     "data": {
      "text/plain": [
       "<AxesSubplot:xlabel='Pressure (millibars)'>"
      ]
     },
     "execution_count": 25,
     "metadata": {},
     "output_type": "execute_result"
    },
    {
     "data": {
      "image/png": "[encoded data removed]",
      "text/plain": [
       "<Figure size 864x504 with 7 Axes>"
      ]
     },
     "metadata": {
      "needs_background": "light"
     },
     "output_type": "display_data"
    }
   ],
   "source": [
    "import warnings\n",
    "warnings.filterwarnings(\"ignore\")\n",
    "\n",
    "plt.figure(figsize=(12,7))\n",
    "plt.subplot(4,2,1)\n",
    "plt.tight_layout(h_pad=6)\n",
    "sns.boxplot(df_without_outliers['Temperature (C)'])\n",
    "\n",
    "plt.subplot(4,2,2)\n",
    "sns.boxplot(df_without_outliers['Apparent Temperature (C)'])\n",
    "\n",
    "plt.subplot(4,2,3)\n",
    "sns.boxplot(df_without_outliers['Humidity'])\n",
    "\n",
    "plt.subplot(4,2,4)\n",
    "sns.boxplot(df_without_outliers['Wind Speed (km/h)'])\n",
    "\n",
    "plt.subplot(4,2,5)\n",
    "sns.boxplot(df_without_outliers['Wind Bearing (degrees)'])\n",
    "\n",
    "plt.subplot(4,2,6)\n",
    "sns.boxplot(df_without_outliers['Visibility (km)'])\n",
    "\n",
    "plt.subplot(4,2,7)\n",
    "sns.boxplot(df_without_outliers['Pressure (millibars)'])"
   ]
  },
  {
   "cell_type": "code",
   "execution_count": 26,
   "metadata": {
    "colab": {
     "base_uri": "https://localhost:8080/",
     "height": 408
    },
    "id": "uV2FmuGaozho",
    "outputId": "9746153f-1007-4213-9b1c-b12016cf9b2b"
   },
   "outputs": [
    {
     "data": {
      "text/html": [
       "<div>\n",
       "<style scoped>\n",
       "    .dataframe tbody tr th:only-of-type {\n",
       "        vertical-align: middle;\n",
       "    }\n",
       "\n",
       "    .dataframe tbody tr th {\n",
       "        vertical-align: top;\n",
       "    }\n",
       "\n",
       "    .dataframe thead th {\n",
       "        text-align: right;\n",
       "    }\n",
       "</style>\n",
       "<table border=\"1\" class=\"dataframe\">\n",
       "  <thead>\n",
       "    <tr style=\"text-align: right;\">\n",
       "      <th></th>\n",
       "      <th>Formatted Date</th>\n",
       "      <th>Summary</th>\n",
       "      <th>Precip Type</th>\n",
       "      <th>Temperature (C)</th>\n",
       "      <th>Apparent Temperature (C)</th>\n",
       "      <th>Humidity</th>\n",
       "      <th>Wind Speed (km/h)</th>\n",
       "      <th>Wind Bearing (degrees)</th>\n",
       "      <th>Visibility (km)</th>\n",
       "      <th>Pressure (millibars)</th>\n",
       "    </tr>\n",
       "  </thead>\n",
       "  <tbody>\n",
       "    <tr>\n",
       "      <th>0</th>\n",
       "      <td>2006-04-01 00:00:00.000 +0200</td>\n",
       "      <td>Partly Cloudy</td>\n",
       "      <td>rain</td>\n",
       "      <td>9.472222</td>\n",
       "      <td>7.388889</td>\n",
       "      <td>0.89</td>\n",
       "      <td>14.1197</td>\n",
       "      <td>251.0</td>\n",
       "      <td>15.8263</td>\n",
       "      <td>1015.13</td>\n",
       "    </tr>\n",
       "    <tr>\n",
       "      <th>1</th>\n",
       "      <td>2006-04-01 01:00:00.000 +0200</td>\n",
       "      <td>Partly Cloudy</td>\n",
       "      <td>rain</td>\n",
       "      <td>9.355556</td>\n",
       "      <td>7.227778</td>\n",
       "      <td>0.86</td>\n",
       "      <td>14.2646</td>\n",
       "      <td>259.0</td>\n",
       "      <td>15.8263</td>\n",
       "      <td>1015.63</td>\n",
       "    </tr>\n",
       "    <tr>\n",
       "      <th>2</th>\n",
       "      <td>2006-04-01 02:00:00.000 +0200</td>\n",
       "      <td>Mostly Cloudy</td>\n",
       "      <td>rain</td>\n",
       "      <td>9.377778</td>\n",
       "      <td>9.377778</td>\n",
       "      <td>0.89</td>\n",
       "      <td>3.9284</td>\n",
       "      <td>204.0</td>\n",
       "      <td>14.9569</td>\n",
       "      <td>1015.94</td>\n",
       "    </tr>\n",
       "    <tr>\n",
       "      <th>3</th>\n",
       "      <td>2006-04-01 03:00:00.000 +0200</td>\n",
       "      <td>Partly Cloudy</td>\n",
       "      <td>rain</td>\n",
       "      <td>8.288889</td>\n",
       "      <td>5.944444</td>\n",
       "      <td>0.83</td>\n",
       "      <td>14.1036</td>\n",
       "      <td>269.0</td>\n",
       "      <td>15.8263</td>\n",
       "      <td>1016.41</td>\n",
       "    </tr>\n",
       "    <tr>\n",
       "      <th>4</th>\n",
       "      <td>2006-04-01 04:00:00.000 +0200</td>\n",
       "      <td>Mostly Cloudy</td>\n",
       "      <td>rain</td>\n",
       "      <td>8.755556</td>\n",
       "      <td>6.977778</td>\n",
       "      <td>0.83</td>\n",
       "      <td>11.0446</td>\n",
       "      <td>259.0</td>\n",
       "      <td>15.8263</td>\n",
       "      <td>1016.51</td>\n",
       "    </tr>\n",
       "  </tbody>\n",
       "</table>\n",
       "</div>"
      ],
      "text/plain": [
       "                  Formatted Date        Summary Precip Type  Temperature (C)  \\\n",
       "0  2006-04-01 00:00:00.000 +0200  Partly Cloudy        rain         9.472222   \n",
       "1  2006-04-01 01:00:00.000 +0200  Partly Cloudy        rain         9.355556   \n",
       "2  2006-04-01 02:00:00.000 +0200  Mostly Cloudy        rain         9.377778   \n",
       "3  2006-04-01 03:00:00.000 +0200  Partly Cloudy        rain         8.288889   \n",
       "4  2006-04-01 04:00:00.000 +0200  Mostly Cloudy        rain         8.755556   \n",
       "\n",
       "   Apparent Temperature (C)  Humidity  Wind Speed (km/h)  \\\n",
       "0                  7.388889      0.89            14.1197   \n",
       "1                  7.227778      0.86            14.2646   \n",
       "2                  9.377778      0.89             3.9284   \n",
       "3                  5.944444      0.83            14.1036   \n",
       "4                  6.977778      0.83            11.0446   \n",
       "\n",
       "   Wind Bearing (degrees)  Visibility (km)  Pressure (millibars)  \n",
       "0                   251.0          15.8263               1015.13  \n",
       "1                   259.0          15.8263               1015.63  \n",
       "2                   204.0          14.9569               1015.94  \n",
       "3                   269.0          15.8263               1016.41  \n",
       "4                   259.0          15.8263               1016.51  "
      ]
     },
     "execution_count": 26,
     "metadata": {},
     "output_type": "execute_result"
    }
   ],
   "source": [
    "df_without_outliers.head(5)\n"
   ]
  },
  {
   "cell_type": "code",
   "execution_count": 27,
   "metadata": {
    "id": "Ag3RS8nkiCIp"
   },
   "outputs": [],
   "source": [
    "# function to change the data type to 'category' before applying data codings.\n",
    "def change_dtype(before_coding):\n",
    "  before_coding['Summary'] = before_coding['Summary'].astype('category')\n",
    "  before_coding['Precip Type'] = before_coding['Precip Type'].astype('category')"
   ]
  },
  {
   "cell_type": "code",
   "execution_count": 28,
   "metadata": {
    "id": "yuTjH2mdiCSg"
   },
   "outputs": [],
   "source": [
    "# calling the function\n",
    "change_dtype(df_without_outliers)"
   ]
  },
  {
   "cell_type": "code",
   "execution_count": 29,
   "metadata": {
    "colab": {
     "base_uri": "https://localhost:8080/"
    },
    "id": "ssH4QaitiJK-",
    "outputId": "334f469b-a8b9-4463-9f85-595eb4b173ac"
   },
   "outputs": [
    {
     "name": "stdout",
     "output_type": "stream",
     "text": [
      "distinct values of 'Precip Type' : 2 \n",
      "distinct values of 'Summary' : 11 \n",
      "\n"
     ]
    }
   ],
   "source": [
    "#shows how the data are grouped in \"Precip Type\" feature and 'Summary' feature\n",
    "distinct_values_precip = len(df_without_outliers['Precip Type'].value_counts())\n",
    "distinct_values_summary = len(df_without_outliers['Summary'].value_counts())\n",
    "\n",
    "print(f\"distinct values of 'Precip Type' : {distinct_values_precip} \\ndistinct values of 'Summary' : {distinct_values_summary} \\n\")"
   ]
  },
  {
   "cell_type": "code",
   "execution_count": 30,
   "metadata": {
    "id": "rRj2iQOphvCC"
   },
   "outputs": [],
   "source": [
    "# funtion to encode features 'Summary' and 'Precip Type'\n",
    "def encode_features(before_coding):\n",
    "  encoded_df_1 = pd.get_dummies(before_coding['Summary'])\n",
    "  encoded1 = pd.concat([before_coding,encoded_df_1],axis=1)\n",
    "\n",
    "  encoded_df_2 = pd.get_dummies(before_coding['Precip Type'])\n",
    "  encoded2 = pd.concat([before_coding,encoded_df_2],axis=1)\n",
    "\n",
    "  df_new=pd.concat([encoded1,encoded2.iloc[:,-2:]],axis=1)\n",
    "  coded_df = df_new.drop(['Formatted Date','Summary','Precip Type'],axis=1)\n",
    "  return coded_df"
   ]
  },
  {
   "cell_type": "code",
   "execution_count": 31,
   "metadata": {
    "id": "wSa4ZeQ4hwiR"
   },
   "outputs": [],
   "source": [
    "# calling the function\n",
    "df_without_outliers= encode_features(df_without_outliers)"
   ]
  },
  {
   "cell_type": "code",
   "execution_count": 32,
   "metadata": {
    "colab": {
     "base_uri": "https://localhost:8080/",
     "height": 275
    },
    "id": "qG--pwyhiymT",
    "outputId": "3266ca5c-05ef-45aa-e0cc-10a7fe5293d1"
   },
   "outputs": [
    {
     "data": {
      "text/html": [
       "<div>\n",
       "<style scoped>\n",
       "    .dataframe tbody tr th:only-of-type {\n",
       "        vertical-align: middle;\n",
       "    }\n",
       "\n",
       "    .dataframe tbody tr th {\n",
       "        vertical-align: top;\n",
       "    }\n",
       "\n",
       "    .dataframe thead th {\n",
       "        text-align: right;\n",
       "    }\n",
       "</style>\n",
       "<table border=\"1\" class=\"dataframe\">\n",
       "  <thead>\n",
       "    <tr style=\"text-align: right;\">\n",
       "      <th></th>\n",
       "      <th>Temperature (C)</th>\n",
       "      <th>Apparent Temperature (C)</th>\n",
       "      <th>Humidity</th>\n",
       "      <th>Wind Speed (km/h)</th>\n",
       "      <th>Wind Bearing (degrees)</th>\n",
       "      <th>Visibility (km)</th>\n",
       "      <th>Pressure (millibars)</th>\n",
       "      <th>Clear</th>\n",
       "      <th>Drizzle</th>\n",
       "      <th>Foggy</th>\n",
       "      <th>Humid and Mostly Cloudy</th>\n",
       "      <th>Humid and Overcast</th>\n",
       "      <th>Humid and Partly Cloudy</th>\n",
       "      <th>Light Rain</th>\n",
       "      <th>Mostly Cloudy</th>\n",
       "      <th>Overcast</th>\n",
       "      <th>Partly Cloudy</th>\n",
       "      <th>Rain</th>\n",
       "      <th>rain</th>\n",
       "      <th>snow</th>\n",
       "    </tr>\n",
       "  </thead>\n",
       "  <tbody>\n",
       "    <tr>\n",
       "      <th>0</th>\n",
       "      <td>9.472222</td>\n",
       "      <td>7.388889</td>\n",
       "      <td>0.89</td>\n",
       "      <td>14.1197</td>\n",
       "      <td>251.0</td>\n",
       "      <td>15.8263</td>\n",
       "      <td>1015.13</td>\n",
       "      <td>0</td>\n",
       "      <td>0</td>\n",
       "      <td>0</td>\n",
       "      <td>0</td>\n",
       "      <td>0</td>\n",
       "      <td>0</td>\n",
       "      <td>0</td>\n",
       "      <td>0</td>\n",
       "      <td>0</td>\n",
       "      <td>1</td>\n",
       "      <td>0</td>\n",
       "      <td>1</td>\n",
       "      <td>0</td>\n",
       "    </tr>\n",
       "    <tr>\n",
       "      <th>1</th>\n",
       "      <td>9.355556</td>\n",
       "      <td>7.227778</td>\n",
       "      <td>0.86</td>\n",
       "      <td>14.2646</td>\n",
       "      <td>259.0</td>\n",
       "      <td>15.8263</td>\n",
       "      <td>1015.63</td>\n",
       "      <td>0</td>\n",
       "      <td>0</td>\n",
       "      <td>0</td>\n",
       "      <td>0</td>\n",
       "      <td>0</td>\n",
       "      <td>0</td>\n",
       "      <td>0</td>\n",
       "      <td>0</td>\n",
       "      <td>0</td>\n",
       "      <td>1</td>\n",
       "      <td>0</td>\n",
       "      <td>1</td>\n",
       "      <td>0</td>\n",
       "    </tr>\n",
       "    <tr>\n",
       "      <th>2</th>\n",
       "      <td>9.377778</td>\n",
       "      <td>9.377778</td>\n",
       "      <td>0.89</td>\n",
       "      <td>3.9284</td>\n",
       "      <td>204.0</td>\n",
       "      <td>14.9569</td>\n",
       "      <td>1015.94</td>\n",
       "      <td>0</td>\n",
       "      <td>0</td>\n",
       "      <td>0</td>\n",
       "      <td>0</td>\n",
       "      <td>0</td>\n",
       "      <td>0</td>\n",
       "      <td>0</td>\n",
       "      <td>1</td>\n",
       "      <td>0</td>\n",
       "      <td>0</td>\n",
       "      <td>0</td>\n",
       "      <td>1</td>\n",
       "      <td>0</td>\n",
       "    </tr>\n",
       "    <tr>\n",
       "      <th>3</th>\n",
       "      <td>8.288889</td>\n",
       "      <td>5.944444</td>\n",
       "      <td>0.83</td>\n",
       "      <td>14.1036</td>\n",
       "      <td>269.0</td>\n",
       "      <td>15.8263</td>\n",
       "      <td>1016.41</td>\n",
       "      <td>0</td>\n",
       "      <td>0</td>\n",
       "      <td>0</td>\n",
       "      <td>0</td>\n",
       "      <td>0</td>\n",
       "      <td>0</td>\n",
       "      <td>0</td>\n",
       "      <td>0</td>\n",
       "      <td>0</td>\n",
       "      <td>1</td>\n",
       "      <td>0</td>\n",
       "      <td>1</td>\n",
       "      <td>0</td>\n",
       "    </tr>\n",
       "    <tr>\n",
       "      <th>4</th>\n",
       "      <td>8.755556</td>\n",
       "      <td>6.977778</td>\n",
       "      <td>0.83</td>\n",
       "      <td>11.0446</td>\n",
       "      <td>259.0</td>\n",
       "      <td>15.8263</td>\n",
       "      <td>1016.51</td>\n",
       "      <td>0</td>\n",
       "      <td>0</td>\n",
       "      <td>0</td>\n",
       "      <td>0</td>\n",
       "      <td>0</td>\n",
       "      <td>0</td>\n",
       "      <td>0</td>\n",
       "      <td>1</td>\n",
       "      <td>0</td>\n",
       "      <td>0</td>\n",
       "      <td>0</td>\n",
       "      <td>1</td>\n",
       "      <td>0</td>\n",
       "    </tr>\n",
       "  </tbody>\n",
       "</table>\n",
       "</div>"
      ],
      "text/plain": [
       "   Temperature (C)  Apparent Temperature (C)  Humidity  Wind Speed (km/h)  \\\n",
       "0         9.472222                  7.388889      0.89            14.1197   \n",
       "1         9.355556                  7.227778      0.86            14.2646   \n",
       "2         9.377778                  9.377778      0.89             3.9284   \n",
       "3         8.288889                  5.944444      0.83            14.1036   \n",
       "4         8.755556                  6.977778      0.83            11.0446   \n",
       "\n",
       "   Wind Bearing (degrees)  Visibility (km)  Pressure (millibars)  Clear  \\\n",
       "0                   251.0          15.8263               1015.13      0   \n",
       "1                   259.0          15.8263               1015.63      0   \n",
       "2                   204.0          14.9569               1015.94      0   \n",
       "3                   269.0          15.8263               1016.41      0   \n",
       "4                   259.0          15.8263               1016.51      0   \n",
       "\n",
       "   Drizzle  Foggy  Humid and Mostly Cloudy  Humid and Overcast  \\\n",
       "0        0      0                        0                   0   \n",
       "1        0      0                        0                   0   \n",
       "2        0      0                        0                   0   \n",
       "3        0      0                        0                   0   \n",
       "4        0      0                        0                   0   \n",
       "\n",
       "   Humid and Partly Cloudy  Light Rain  Mostly Cloudy  Overcast  \\\n",
       "0                        0           0              0         0   \n",
       "1                        0           0              0         0   \n",
       "2                        0           0              1         0   \n",
       "3                        0           0              0         0   \n",
       "4                        0           0              1         0   \n",
       "\n",
       "   Partly Cloudy  Rain  rain  snow  \n",
       "0              1     0     1     0  \n",
       "1              1     0     1     0  \n",
       "2              0     0     1     0  \n",
       "3              1     0     1     0  \n",
       "4              0     0     1     0  "
      ]
     },
     "execution_count": 32,
     "metadata": {},
     "output_type": "execute_result"
    }
   ],
   "source": [
    "df_without_outliers.head()"
   ]
  },
  {
   "cell_type": "markdown",
   "metadata": {
    "id": "t-WofJihFvcW"
   },
   "source": [
    "### **Identify independent and dependent variables**"
   ]
  },
  {
   "cell_type": "code",
   "execution_count": 33,
   "metadata": {
    "id": "3aWhRbnKpnJi"
   },
   "outputs": [],
   "source": [
    "# selecting X with all independent variables and y with dependent variable\n",
    "X=pd.concat([df_without_outliers.iloc[:,0],df_without_outliers.iloc[:,2:]],axis=1)\n",
    "y=df_without_outliers.iloc[:,1]"
   ]
  },
  {
   "cell_type": "code",
   "execution_count": 34,
   "metadata": {
    "colab": {
     "base_uri": "https://localhost:8080/",
     "height": 275
    },
    "id": "GptetwrutYns",
    "outputId": "acc4cc24-dc16-4c48-8c87-5141f3823534"
   },
   "outputs": [
    {
     "data": {
      "text/html": [
       "<div>\n",
       "<style scoped>\n",
       "    .dataframe tbody tr th:only-of-type {\n",
       "        vertical-align: middle;\n",
       "    }\n",
       "\n",
       "    .dataframe tbody tr th {\n",
       "        vertical-align: top;\n",
       "    }\n",
       "\n",
       "    .dataframe thead th {\n",
       "        text-align: right;\n",
       "    }\n",
       "</style>\n",
       "<table border=\"1\" class=\"dataframe\">\n",
       "  <thead>\n",
       "    <tr style=\"text-align: right;\">\n",
       "      <th></th>\n",
       "      <th>Temperature (C)</th>\n",
       "      <th>Humidity</th>\n",
       "      <th>Wind Speed (km/h)</th>\n",
       "      <th>Wind Bearing (degrees)</th>\n",
       "      <th>Visibility (km)</th>\n",
       "      <th>Pressure (millibars)</th>\n",
       "      <th>Clear</th>\n",
       "      <th>Drizzle</th>\n",
       "      <th>Foggy</th>\n",
       "      <th>Humid and Mostly Cloudy</th>\n",
       "      <th>Humid and Overcast</th>\n",
       "      <th>Humid and Partly Cloudy</th>\n",
       "      <th>Light Rain</th>\n",
       "      <th>Mostly Cloudy</th>\n",
       "      <th>Overcast</th>\n",
       "      <th>Partly Cloudy</th>\n",
       "      <th>Rain</th>\n",
       "      <th>rain</th>\n",
       "      <th>snow</th>\n",
       "    </tr>\n",
       "  </thead>\n",
       "  <tbody>\n",
       "    <tr>\n",
       "      <th>0</th>\n",
       "      <td>9.472222</td>\n",
       "      <td>0.89</td>\n",
       "      <td>14.1197</td>\n",
       "      <td>251.0</td>\n",
       "      <td>15.8263</td>\n",
       "      <td>1015.13</td>\n",
       "      <td>0</td>\n",
       "      <td>0</td>\n",
       "      <td>0</td>\n",
       "      <td>0</td>\n",
       "      <td>0</td>\n",
       "      <td>0</td>\n",
       "      <td>0</td>\n",
       "      <td>0</td>\n",
       "      <td>0</td>\n",
       "      <td>1</td>\n",
       "      <td>0</td>\n",
       "      <td>1</td>\n",
       "      <td>0</td>\n",
       "    </tr>\n",
       "    <tr>\n",
       "      <th>1</th>\n",
       "      <td>9.355556</td>\n",
       "      <td>0.86</td>\n",
       "      <td>14.2646</td>\n",
       "      <td>259.0</td>\n",
       "      <td>15.8263</td>\n",
       "      <td>1015.63</td>\n",
       "      <td>0</td>\n",
       "      <td>0</td>\n",
       "      <td>0</td>\n",
       "      <td>0</td>\n",
       "      <td>0</td>\n",
       "      <td>0</td>\n",
       "      <td>0</td>\n",
       "      <td>0</td>\n",
       "      <td>0</td>\n",
       "      <td>1</td>\n",
       "      <td>0</td>\n",
       "      <td>1</td>\n",
       "      <td>0</td>\n",
       "    </tr>\n",
       "    <tr>\n",
       "      <th>2</th>\n",
       "      <td>9.377778</td>\n",
       "      <td>0.89</td>\n",
       "      <td>3.9284</td>\n",
       "      <td>204.0</td>\n",
       "      <td>14.9569</td>\n",
       "      <td>1015.94</td>\n",
       "      <td>0</td>\n",
       "      <td>0</td>\n",
       "      <td>0</td>\n",
       "      <td>0</td>\n",
       "      <td>0</td>\n",
       "      <td>0</td>\n",
       "      <td>0</td>\n",
       "      <td>1</td>\n",
       "      <td>0</td>\n",
       "      <td>0</td>\n",
       "      <td>0</td>\n",
       "      <td>1</td>\n",
       "      <td>0</td>\n",
       "    </tr>\n",
       "    <tr>\n",
       "      <th>3</th>\n",
       "      <td>8.288889</td>\n",
       "      <td>0.83</td>\n",
       "      <td>14.1036</td>\n",
       "      <td>269.0</td>\n",
       "      <td>15.8263</td>\n",
       "      <td>1016.41</td>\n",
       "      <td>0</td>\n",
       "      <td>0</td>\n",
       "      <td>0</td>\n",
       "      <td>0</td>\n",
       "      <td>0</td>\n",
       "      <td>0</td>\n",
       "      <td>0</td>\n",
       "      <td>0</td>\n",
       "      <td>0</td>\n",
       "      <td>1</td>\n",
       "      <td>0</td>\n",
       "      <td>1</td>\n",
       "      <td>0</td>\n",
       "    </tr>\n",
       "    <tr>\n",
       "      <th>4</th>\n",
       "      <td>8.755556</td>\n",
       "      <td>0.83</td>\n",
       "      <td>11.0446</td>\n",
       "      <td>259.0</td>\n",
       "      <td>15.8263</td>\n",
       "      <td>1016.51</td>\n",
       "      <td>0</td>\n",
       "      <td>0</td>\n",
       "      <td>0</td>\n",
       "      <td>0</td>\n",
       "      <td>0</td>\n",
       "      <td>0</td>\n",
       "      <td>0</td>\n",
       "      <td>1</td>\n",
       "      <td>0</td>\n",
       "      <td>0</td>\n",
       "      <td>0</td>\n",
       "      <td>1</td>\n",
       "      <td>0</td>\n",
       "    </tr>\n",
       "  </tbody>\n",
       "</table>\n",
       "</div>"
      ],
      "text/plain": [
       "   Temperature (C)  Humidity  Wind Speed (km/h)  Wind Bearing (degrees)  \\\n",
       "0         9.472222      0.89            14.1197                   251.0   \n",
       "1         9.355556      0.86            14.2646                   259.0   \n",
       "2         9.377778      0.89             3.9284                   204.0   \n",
       "3         8.288889      0.83            14.1036                   269.0   \n",
       "4         8.755556      0.83            11.0446                   259.0   \n",
       "\n",
       "   Visibility (km)  Pressure (millibars)  Clear  Drizzle  Foggy  \\\n",
       "0          15.8263               1015.13      0        0      0   \n",
       "1          15.8263               1015.63      0        0      0   \n",
       "2          14.9569               1015.94      0        0      0   \n",
       "3          15.8263               1016.41      0        0      0   \n",
       "4          15.8263               1016.51      0        0      0   \n",
       "\n",
       "   Humid and Mostly Cloudy  Humid and Overcast  Humid and Partly Cloudy  \\\n",
       "0                        0                   0                        0   \n",
       "1                        0                   0                        0   \n",
       "2                        0                   0                        0   \n",
       "3                        0                   0                        0   \n",
       "4                        0                   0                        0   \n",
       "\n",
       "   Light Rain  Mostly Cloudy  Overcast  Partly Cloudy  Rain  rain  snow  \n",
       "0           0              0         0              1     0     1     0  \n",
       "1           0              0         0              1     0     1     0  \n",
       "2           0              1         0              0     0     1     0  \n",
       "3           0              0         0              1     0     1     0  \n",
       "4           0              1         0              0     0     1     0  "
      ]
     },
     "execution_count": 34,
     "metadata": {},
     "output_type": "execute_result"
    }
   ],
   "source": [
    "X.head()"
   ]
  },
  {
   "cell_type": "code",
   "execution_count": 35,
   "metadata": {
    "colab": {
     "base_uri": "https://localhost:8080/"
    },
    "id": "-6mfVdLSuTAo",
    "outputId": "f3fefea7-cd22-4868-c470-5a43a2d39d1f"
   },
   "outputs": [
    {
     "data": {
      "text/plain": [
       "0    7.388889\n",
       "1    7.227778\n",
       "2    9.377778\n",
       "3    5.944444\n",
       "4    6.977778\n",
       "Name: Apparent Temperature (C), dtype: float64"
      ]
     },
     "execution_count": 35,
     "metadata": {},
     "output_type": "execute_result"
    }
   ],
   "source": [
    "y.head()"
   ]
  },
  {
   "cell_type": "markdown",
   "metadata": {
    "id": "ZVZ9q9I9-wcN"
   },
   "source": [
    "### **Splitting Dataset to Train and Test**"
   ]
  },
  {
   "cell_type": "code",
   "execution_count": 36,
   "metadata": {
    "id": "ZDAA_gR0oZth"
   },
   "outputs": [],
   "source": [
    "# Splitting the dataset to X_train, X_test, y_train and y_test\n",
    "from sklearn.model_selection import train_test_split\n",
    "\n",
    "X_train, X_test, y_train, y_test = train_test_split(X, y, test_size = 0.2, random_state=20)"
   ]
  },
  {
   "cell_type": "markdown",
   "metadata": {
    "id": "W_PR6Gz3B5Na"
   },
   "source": [
    "### **Data Transformations**"
   ]
  },
  {
   "cell_type": "code",
   "execution_count": 37,
   "metadata": {
    "id": "rkN1-mL94KF5"
   },
   "outputs": [],
   "source": [
    "#function to display probability plots for each feature available in the dataframe\n",
    "def display_probplots_x(df):\n",
    "  df_without_outliers=df\n",
    "  plt.figure(figsize=(15,7))\n",
    "  plt.tight_layout(h_pad=6)\n",
    "\n",
    "  ax2=plt.subplot(4,2,1)\n",
    "  stats.probplot(df_without_outliers['Temperature (C)'], dist=\"norm\", plot=plt)\n",
    "  ax2.set_title(\"Apparent Temperature (C)\")\n",
    "\n",
    "  ax3=plt.subplot(4,2,2)\n",
    "  stats.probplot(df_without_outliers['Humidity'], dist=\"norm\", plot=plt)\n",
    "  ax3.set_title(\"Humidity\")\n",
    "\n",
    "  ax4=plt.subplot(4,2,3)\n",
    "  stats.probplot(df_without_outliers['Wind Speed (km/h)'], dist=\"norm\", plot=plt)\n",
    "  ax4.set_title('Wind Speed (km/h)')\n",
    "\n",
    "  ax5=plt.subplot(4,2,4)\n",
    "  stats.probplot(df_without_outliers['Wind Bearing (degrees)'], dist=\"norm\", plot=plt)\n",
    "  ax5.set_title('Wind Bearing (degrees)')\n",
    "\n",
    "  ax6=plt.subplot(4,2,5)\n",
    "  stats.probplot(df_without_outliers['Visibility (km)'], dist=\"norm\", plot=plt)\n",
    "  ax6.set_title('Visibility (km)')\n",
    "\n",
    "  ax7=plt.subplot(4,2,6)\n",
    "  stats.probplot(df_without_outliers['Pressure (millibars)'], dist=\"norm\", plot=plt)\n",
    "  ax7.set_title('Pressure (millibars)')"
   ]
  },
  {
   "cell_type": "code",
   "execution_count": 38,
   "metadata": {
    "colab": {
     "base_uri": "https://localhost:8080/",
     "height": 359
    },
    "id": "ZWjJWk1Bu22J",
    "outputId": "e385aa37-4507-44e2-eca7-10d963c0c61b"
   },
   "outputs": [
    {
     "data": {
      "image/png": "[encoded data removed]",
      "text/plain": [
       "<Figure size 1080x504 with 6 Axes>"
      ]
     },
     "metadata": {
      "needs_background": "light"
     },
     "output_type": "display_data"
    }
   ],
   "source": [
    "# calling the function\n",
    "display_probplots_x(X_train)"
   ]
  },
  {
   "cell_type": "code",
   "execution_count": 39,
   "metadata": {
    "colab": {
     "base_uri": "https://localhost:8080/",
     "height": 359
    },
    "id": "BJ0aF1FevYnC",
    "outputId": "ccb68f8f-fc3e-4839-d674-a540892f5e3e"
   },
   "outputs": [
    {
     "data": {
      "image/png": "[encoded data removed]",
      "text/plain": [
       "<Figure size 1080x504 with 6 Axes>"
      ]
     },
     "metadata": {
      "needs_background": "light"
     },
     "output_type": "display_data"
    }
   ],
   "source": [
    "# calling the function\n",
    "display_probplots_x(X_test)"
   ]
  },
  {
   "cell_type": "code",
   "execution_count": 40,
   "metadata": {
    "colab": {
     "base_uri": "https://localhost:8080/",
     "height": 400
    },
    "id": "PwI_vTpTLUqr",
    "outputId": "ef1870a1-b8f1-4692-857e-ca8e93c1e57f"
   },
   "outputs": [
    {
     "data": {
      "text/plain": [
       "array([[<AxesSubplot:title={'center':'Temperature (C)'}>,\n",
       "        <AxesSubplot:title={'center':'Humidity'}>],\n",
       "       [<AxesSubplot:title={'center':'Wind Speed (km/h)'}>,\n",
       "        <AxesSubplot:title={'center':'Wind Bearing (degrees)'}>],\n",
       "       [<AxesSubplot:title={'center':'Visibility (km)'}>,\n",
       "        <AxesSubplot:title={'center':'Pressure (millibars)'}>]],\n",
       "      dtype=object)"
      ]
     },
     "execution_count": 40,
     "metadata": {},
     "output_type": "execute_result"
    },
    {
     "data": {
      "image/png": "[encoded data removed]",
      "text/plain": [
       "<Figure size 432x288 with 6 Axes>"
      ]
     },
     "metadata": {
      "needs_background": "light"
     },
     "output_type": "display_data"
    }
   ],
   "source": [
    "# drawing the histograms for numerical features within the X_train dataframe\n",
    "X_train.iloc[:,:6].hist()"
   ]
  },
  {
   "cell_type": "code",
   "execution_count": 41,
   "metadata": {
    "colab": {
     "base_uri": "https://localhost:8080/",
     "height": 400
    },
    "id": "NWmayDL5v2Xz",
    "outputId": "bf28e71a-6ee1-42b5-d989-f6e18a6a2fa8"
   },
   "outputs": [
    {
     "data": {
      "text/plain": [
       "array([[<AxesSubplot:title={'center':'Temperature (C)'}>,\n",
       "        <AxesSubplot:title={'center':'Humidity'}>],\n",
       "       [<AxesSubplot:title={'center':'Wind Speed (km/h)'}>,\n",
       "        <AxesSubplot:title={'center':'Wind Bearing (degrees)'}>],\n",
       "       [<AxesSubplot:title={'center':'Visibility (km)'}>,\n",
       "        <AxesSubplot:title={'center':'Pressure (millibars)'}>]],\n",
       "      dtype=object)"
      ]
     },
     "execution_count": 41,
     "metadata": {},
     "output_type": "execute_result"
    },
    {
     "data": {
      "image/png": "[encoded data removed]",
      "text/plain": [
       "<Figure size 432x288 with 6 Axes>"
      ]
     },
     "metadata": {
      "needs_background": "light"
     },
     "output_type": "display_data"
    }
   ],
   "source": [
    "# drawing the histograms for numerical features within the X_test dataframe\n",
    "X_test.iloc[:,:6].hist()"
   ]
  },
  {
   "cell_type": "code",
   "execution_count": 42,
   "metadata": {
    "id": "qyjJPBXnMDrb"
   },
   "outputs": [],
   "source": [
    "# Applying exponential transformer to left skewed 'Humidity' feature \n",
    "from sklearn.preprocessing import FunctionTransformer\n",
    "\n",
    "def exp_transformer(df):\n",
    "  df_without_outliers=df\n",
    "  exp_transformer = FunctionTransformer(np.exp)\n",
    "\n",
    "  transformed_humidity = exp_transformer.transform(df_without_outliers[['Humidity']])\n",
    "  df_without_outliers['Humidity']=transformed_humidity['Humidity']\n",
    "  return df_without_outliers"
   ]
  },
  {
   "cell_type": "code",
   "execution_count": 43,
   "metadata": {
    "colab": {
     "base_uri": "https://localhost:8080/",
     "height": 400
    },
    "id": "tnvighDSwi2V",
    "outputId": "29a3b562-d25c-4ba6-aa2b-07f314e7d095"
   },
   "outputs": [
    {
     "data": {
      "text/plain": [
       "array([[<AxesSubplot:title={'center':'Temperature (C)'}>,\n",
       "        <AxesSubplot:title={'center':'Humidity'}>],\n",
       "       [<AxesSubplot:title={'center':'Wind Speed (km/h)'}>,\n",
       "        <AxesSubplot:title={'center':'Wind Bearing (degrees)'}>],\n",
       "       [<AxesSubplot:title={'center':'Visibility (km)'}>,\n",
       "        <AxesSubplot:title={'center':'Pressure (millibars)'}>]],\n",
       "      dtype=object)"
      ]
     },
     "execution_count": 43,
     "metadata": {},
     "output_type": "execute_result"
    },
    {
     "data": {
      "image/png": "[encoded data removed]",
      "text/plain": [
       "<Figure size 432x288 with 6 Axes>"
      ]
     },
     "metadata": {
      "needs_background": "light"
     },
     "output_type": "display_data"
    }
   ],
   "source": [
    "# calling the function to transform X_train dataframe and displaying the histograms to visualize the changes of the distribution in the 'Humidity' feature.\n",
    "X_trained_transformed = exp_transformer(X_train)\n",
    "X_trained_transformed.iloc[:,:6].hist()"
   ]
  },
  {
   "cell_type": "code",
   "execution_count": 44,
   "metadata": {
    "colab": {
     "base_uri": "https://localhost:8080/",
     "height": 400
    },
    "id": "i3BhTDZYwqtt",
    "outputId": "f3aa9202-8b61-4313-8339-a55a0971789f"
   },
   "outputs": [
    {
     "data": {
      "text/plain": [
       "array([[<AxesSubplot:title={'center':'Temperature (C)'}>,\n",
       "        <AxesSubplot:title={'center':'Humidity'}>],\n",
       "       [<AxesSubplot:title={'center':'Wind Speed (km/h)'}>,\n",
       "        <AxesSubplot:title={'center':'Wind Bearing (degrees)'}>],\n",
       "       [<AxesSubplot:title={'center':'Visibility (km)'}>,\n",
       "        <AxesSubplot:title={'center':'Pressure (millibars)'}>]],\n",
       "      dtype=object)"
      ]
     },
     "execution_count": 44,
     "metadata": {},
     "output_type": "execute_result"
    },
    {
     "data": {
      "image/png": "[encoded data removed]",
      "text/plain": [
       "<Figure size 432x288 with 6 Axes>"
      ]
     },
     "metadata": {
      "needs_background": "light"
     },
     "output_type": "display_data"
    }
   ],
   "source": [
    "# calling the function to transform X_test dataframe and displaying the histograms to visualize the changes of the distribution in the 'Humidity' feature.\n",
    "X_test_transformed = exp_transformer(X_test)\n",
    "\n",
    "X_test_transformed.iloc[:,:6].hist()"
   ]
  },
  {
   "cell_type": "code",
   "execution_count": 45,
   "metadata": {
    "id": "eNYdUm7oOQ0H"
   },
   "outputs": [],
   "source": [
    "# Applying log transformer to left skewed 'Humidity' feature \n",
    "from sklearn.preprocessing import FunctionTransformer\n",
    "\n",
    "def log_transformer(df):\n",
    "  df_without_outliers=df\n",
    "  logarithm_transformer = FunctionTransformer(np.log1p)\n",
    "  transformed_windspeed = logarithm_transformer.transform(df_without_outliers['Wind Speed (km/h)'])\n",
    "  df_without_outliers['Wind Speed (km/h)']=transformed_windspeed\n",
    "  return df_without_outliers"
   ]
  },
  {
   "cell_type": "code",
   "execution_count": 46,
   "metadata": {
    "colab": {
     "base_uri": "https://localhost:8080/",
     "height": 400
    },
    "id": "i9l4i45hxG7M",
    "outputId": "69d9a2ea-704d-4999-c419-e4100670fc8e"
   },
   "outputs": [
    {
     "data": {
      "text/plain": [
       "array([[<AxesSubplot:title={'center':'Temperature (C)'}>,\n",
       "        <AxesSubplot:title={'center':'Humidity'}>],\n",
       "       [<AxesSubplot:title={'center':'Wind Speed (km/h)'}>,\n",
       "        <AxesSubplot:title={'center':'Wind Bearing (degrees)'}>],\n",
       "       [<AxesSubplot:title={'center':'Visibility (km)'}>,\n",
       "        <AxesSubplot:title={'center':'Pressure (millibars)'}>]],\n",
       "      dtype=object)"
      ]
     },
     "execution_count": 46,
     "metadata": {},
     "output_type": "execute_result"
    },
    {
     "data": {
      "image/png": "[encoded data removed]",
      "text/plain": [
       "<Figure size 432x288 with 6 Axes>"
      ]
     },
     "metadata": {
      "needs_background": "light"
     },
     "output_type": "display_data"
    }
   ],
   "source": [
    "# calling the log_transformer() function to transform X_train dataframe and displaying the histograms to visualize the changes of the distribution in the 'Wind Speed (km/h)' feature.\n",
    "X_trained_transformed=log_transformer(X_train)\n",
    "X_trained_transformed.iloc[:,:6].hist()"
   ]
  },
  {
   "cell_type": "code",
   "execution_count": 47,
   "metadata": {
    "colab": {
     "base_uri": "https://localhost:8080/",
     "height": 400
    },
    "id": "7LBHJm8FxL7-",
    "outputId": "1009ae27-0466-4701-c4ff-857773ab3370"
   },
   "outputs": [
    {
     "data": {
      "text/plain": [
       "array([[<AxesSubplot:title={'center':'Temperature (C)'}>,\n",
       "        <AxesSubplot:title={'center':'Humidity'}>],\n",
       "       [<AxesSubplot:title={'center':'Wind Speed (km/h)'}>,\n",
       "        <AxesSubplot:title={'center':'Wind Bearing (degrees)'}>],\n",
       "       [<AxesSubplot:title={'center':'Visibility (km)'}>,\n",
       "        <AxesSubplot:title={'center':'Pressure (millibars)'}>]],\n",
       "      dtype=object)"
      ]
     },
     "execution_count": 47,
     "metadata": {},
     "output_type": "execute_result"
    },
    {
     "data": {
      "image/png": "[encoded data removed]",
      "text/plain": [
       "<Figure size 432x288 with 6 Axes>"
      ]
     },
     "metadata": {
      "needs_background": "light"
     },
     "output_type": "display_data"
    }
   ],
   "source": [
    "# calling the log_transformer() function to transform X_test dataframe and displaying the histograms to visualize the changes of the distribution in the 'Wind Speed (km/h)' feature.\n",
    "X_test_transformed=log_transformer(X_test)\n",
    "X_test_transformed.iloc[:,:6].hist()"
   ]
  },
  {
   "cell_type": "code",
   "execution_count": 48,
   "metadata": {
    "colab": {
     "base_uri": "https://localhost:8080/",
     "height": 275
    },
    "id": "qRbsUiRcHAwe",
    "outputId": "ed4660ea-35a7-418d-b339-848b628d07b0"
   },
   "outputs": [
    {
     "data": {
      "text/html": [
       "<div>\n",
       "<style scoped>\n",
       "    .dataframe tbody tr th:only-of-type {\n",
       "        vertical-align: middle;\n",
       "    }\n",
       "\n",
       "    .dataframe tbody tr th {\n",
       "        vertical-align: top;\n",
       "    }\n",
       "\n",
       "    .dataframe thead th {\n",
       "        text-align: right;\n",
       "    }\n",
       "</style>\n",
       "<table border=\"1\" class=\"dataframe\">\n",
       "  <thead>\n",
       "    <tr style=\"text-align: right;\">\n",
       "      <th></th>\n",
       "      <th>Temperature (C)</th>\n",
       "      <th>Humidity</th>\n",
       "      <th>Wind Speed (km/h)</th>\n",
       "      <th>Wind Bearing (degrees)</th>\n",
       "      <th>Visibility (km)</th>\n",
       "      <th>Pressure (millibars)</th>\n",
       "      <th>Clear</th>\n",
       "      <th>Drizzle</th>\n",
       "      <th>Foggy</th>\n",
       "      <th>Humid and Mostly Cloudy</th>\n",
       "      <th>Humid and Overcast</th>\n",
       "      <th>Humid and Partly Cloudy</th>\n",
       "      <th>Light Rain</th>\n",
       "      <th>Mostly Cloudy</th>\n",
       "      <th>Overcast</th>\n",
       "      <th>Partly Cloudy</th>\n",
       "      <th>Rain</th>\n",
       "      <th>rain</th>\n",
       "      <th>snow</th>\n",
       "    </tr>\n",
       "  </thead>\n",
       "  <tbody>\n",
       "    <tr>\n",
       "      <th>83441</th>\n",
       "      <td>22.938889</td>\n",
       "      <td>1.934792</td>\n",
       "      <td>2.364987</td>\n",
       "      <td>266.0</td>\n",
       "      <td>10.3523</td>\n",
       "      <td>1009.40</td>\n",
       "      <td>0</td>\n",
       "      <td>0</td>\n",
       "      <td>0</td>\n",
       "      <td>0</td>\n",
       "      <td>0</td>\n",
       "      <td>0</td>\n",
       "      <td>0</td>\n",
       "      <td>0</td>\n",
       "      <td>0</td>\n",
       "      <td>1</td>\n",
       "      <td>0</td>\n",
       "      <td>1</td>\n",
       "      <td>0</td>\n",
       "    </tr>\n",
       "    <tr>\n",
       "      <th>94707</th>\n",
       "      <td>1.783333</td>\n",
       "      <td>2.459603</td>\n",
       "      <td>2.454628</td>\n",
       "      <td>153.0</td>\n",
       "      <td>4.9910</td>\n",
       "      <td>1019.54</td>\n",
       "      <td>0</td>\n",
       "      <td>0</td>\n",
       "      <td>0</td>\n",
       "      <td>0</td>\n",
       "      <td>0</td>\n",
       "      <td>0</td>\n",
       "      <td>0</td>\n",
       "      <td>1</td>\n",
       "      <td>0</td>\n",
       "      <td>0</td>\n",
       "      <td>0</td>\n",
       "      <td>1</td>\n",
       "      <td>0</td>\n",
       "    </tr>\n",
       "    <tr>\n",
       "      <th>31084</th>\n",
       "      <td>13.333333</td>\n",
       "      <td>2.611696</td>\n",
       "      <td>1.439835</td>\n",
       "      <td>180.0</td>\n",
       "      <td>9.9820</td>\n",
       "      <td>1008.10</td>\n",
       "      <td>0</td>\n",
       "      <td>0</td>\n",
       "      <td>0</td>\n",
       "      <td>0</td>\n",
       "      <td>0</td>\n",
       "      <td>0</td>\n",
       "      <td>0</td>\n",
       "      <td>0</td>\n",
       "      <td>0</td>\n",
       "      <td>1</td>\n",
       "      <td>0</td>\n",
       "      <td>1</td>\n",
       "      <td>0</td>\n",
       "    </tr>\n",
       "    <tr>\n",
       "      <th>41249</th>\n",
       "      <td>16.300000</td>\n",
       "      <td>2.363161</td>\n",
       "      <td>2.340488</td>\n",
       "      <td>350.0</td>\n",
       "      <td>10.0464</td>\n",
       "      <td>1016.48</td>\n",
       "      <td>0</td>\n",
       "      <td>0</td>\n",
       "      <td>0</td>\n",
       "      <td>0</td>\n",
       "      <td>0</td>\n",
       "      <td>0</td>\n",
       "      <td>0</td>\n",
       "      <td>1</td>\n",
       "      <td>0</td>\n",
       "      <td>0</td>\n",
       "      <td>0</td>\n",
       "      <td>1</td>\n",
       "      <td>0</td>\n",
       "    </tr>\n",
       "    <tr>\n",
       "      <th>2074</th>\n",
       "      <td>7.894444</td>\n",
       "      <td>2.270500</td>\n",
       "      <td>2.524071</td>\n",
       "      <td>166.0</td>\n",
       "      <td>7.0518</td>\n",
       "      <td>1015.83</td>\n",
       "      <td>0</td>\n",
       "      <td>0</td>\n",
       "      <td>0</td>\n",
       "      <td>0</td>\n",
       "      <td>0</td>\n",
       "      <td>0</td>\n",
       "      <td>0</td>\n",
       "      <td>0</td>\n",
       "      <td>1</td>\n",
       "      <td>0</td>\n",
       "      <td>0</td>\n",
       "      <td>1</td>\n",
       "      <td>0</td>\n",
       "    </tr>\n",
       "  </tbody>\n",
       "</table>\n",
       "</div>"
      ],
      "text/plain": [
       "       Temperature (C)  Humidity  Wind Speed (km/h)  Wind Bearing (degrees)  \\\n",
       "83441        22.938889  1.934792           2.364987                   266.0   \n",
       "94707         1.783333  2.459603           2.454628                   153.0   \n",
       "31084        13.333333  2.611696           1.439835                   180.0   \n",
       "41249        16.300000  2.363161           2.340488                   350.0   \n",
       "2074          7.894444  2.270500           2.524071                   166.0   \n",
       "\n",
       "       Visibility (km)  Pressure (millibars)  Clear  Drizzle  Foggy  \\\n",
       "83441          10.3523               1009.40      0        0      0   \n",
       "94707           4.9910               1019.54      0        0      0   \n",
       "31084           9.9820               1008.10      0        0      0   \n",
       "41249          10.0464               1016.48      0        0      0   \n",
       "2074            7.0518               1015.83      0        0      0   \n",
       "\n",
       "       Humid and Mostly Cloudy  Humid and Overcast  Humid and Partly Cloudy  \\\n",
       "83441                        0                   0                        0   \n",
       "94707                        0                   0                        0   \n",
       "31084                        0                   0                        0   \n",
       "41249                        0                   0                        0   \n",
       "2074                         0                   0                        0   \n",
       "\n",
       "       Light Rain  Mostly Cloudy  Overcast  Partly Cloudy  Rain  rain  snow  \n",
       "83441           0              0         0              1     0     1     0  \n",
       "94707           0              1         0              0     0     1     0  \n",
       "31084           0              0         0              1     0     1     0  \n",
       "41249           0              1         0              0     0     1     0  \n",
       "2074            0              0         1              0     0     1     0  "
      ]
     },
     "execution_count": 48,
     "metadata": {},
     "output_type": "execute_result"
    }
   ],
   "source": [
    "X_trained_transformed.head()"
   ]
  },
  {
   "cell_type": "code",
   "execution_count": 49,
   "metadata": {
    "colab": {
     "base_uri": "https://localhost:8080/",
     "height": 275
    },
    "id": "5V5_U2d0k6s0",
    "outputId": "497b78b2-fac2-4093-e67e-f310e386c8e1"
   },
   "outputs": [
    {
     "data": {
      "text/html": [
       "<div>\n",
       "<style scoped>\n",
       "    .dataframe tbody tr th:only-of-type {\n",
       "        vertical-align: middle;\n",
       "    }\n",
       "\n",
       "    .dataframe tbody tr th {\n",
       "        vertical-align: top;\n",
       "    }\n",
       "\n",
       "    .dataframe thead th {\n",
       "        text-align: right;\n",
       "    }\n",
       "</style>\n",
       "<table border=\"1\" class=\"dataframe\">\n",
       "  <thead>\n",
       "    <tr style=\"text-align: right;\">\n",
       "      <th></th>\n",
       "      <th>Temperature (C)</th>\n",
       "      <th>Humidity</th>\n",
       "      <th>Wind Speed (km/h)</th>\n",
       "      <th>Wind Bearing (degrees)</th>\n",
       "      <th>Visibility (km)</th>\n",
       "      <th>Pressure (millibars)</th>\n",
       "      <th>Clear</th>\n",
       "      <th>Drizzle</th>\n",
       "      <th>Foggy</th>\n",
       "      <th>Humid and Mostly Cloudy</th>\n",
       "      <th>Humid and Overcast</th>\n",
       "      <th>Humid and Partly Cloudy</th>\n",
       "      <th>Light Rain</th>\n",
       "      <th>Mostly Cloudy</th>\n",
       "      <th>Overcast</th>\n",
       "      <th>Partly Cloudy</th>\n",
       "      <th>Rain</th>\n",
       "      <th>rain</th>\n",
       "      <th>snow</th>\n",
       "    </tr>\n",
       "  </thead>\n",
       "  <tbody>\n",
       "    <tr>\n",
       "      <th>4789</th>\n",
       "      <td>28.955556</td>\n",
       "      <td>1.786038</td>\n",
       "      <td>2.216896</td>\n",
       "      <td>63.0</td>\n",
       "      <td>11.2700</td>\n",
       "      <td>1017.58</td>\n",
       "      <td>0</td>\n",
       "      <td>0</td>\n",
       "      <td>0</td>\n",
       "      <td>0</td>\n",
       "      <td>0</td>\n",
       "      <td>0</td>\n",
       "      <td>0</td>\n",
       "      <td>0</td>\n",
       "      <td>0</td>\n",
       "      <td>1</td>\n",
       "      <td>0</td>\n",
       "      <td>1</td>\n",
       "      <td>0</td>\n",
       "    </tr>\n",
       "    <tr>\n",
       "      <th>35840</th>\n",
       "      <td>19.822222</td>\n",
       "      <td>2.316367</td>\n",
       "      <td>1.840057</td>\n",
       "      <td>337.0</td>\n",
       "      <td>9.9015</td>\n",
       "      <td>1017.87</td>\n",
       "      <td>0</td>\n",
       "      <td>0</td>\n",
       "      <td>0</td>\n",
       "      <td>0</td>\n",
       "      <td>0</td>\n",
       "      <td>0</td>\n",
       "      <td>0</td>\n",
       "      <td>0</td>\n",
       "      <td>0</td>\n",
       "      <td>1</td>\n",
       "      <td>0</td>\n",
       "      <td>1</td>\n",
       "      <td>0</td>\n",
       "    </tr>\n",
       "    <tr>\n",
       "      <th>18321</th>\n",
       "      <td>23.761111</td>\n",
       "      <td>1.521962</td>\n",
       "      <td>1.400937</td>\n",
       "      <td>120.0</td>\n",
       "      <td>9.9820</td>\n",
       "      <td>1013.46</td>\n",
       "      <td>0</td>\n",
       "      <td>0</td>\n",
       "      <td>0</td>\n",
       "      <td>0</td>\n",
       "      <td>0</td>\n",
       "      <td>0</td>\n",
       "      <td>0</td>\n",
       "      <td>0</td>\n",
       "      <td>0</td>\n",
       "      <td>1</td>\n",
       "      <td>0</td>\n",
       "      <td>1</td>\n",
       "      <td>0</td>\n",
       "    </tr>\n",
       "    <tr>\n",
       "      <th>10073</th>\n",
       "      <td>22.111111</td>\n",
       "      <td>1.768267</td>\n",
       "      <td>2.698814</td>\n",
       "      <td>43.0</td>\n",
       "      <td>11.4471</td>\n",
       "      <td>1012.16</td>\n",
       "      <td>0</td>\n",
       "      <td>0</td>\n",
       "      <td>0</td>\n",
       "      <td>0</td>\n",
       "      <td>0</td>\n",
       "      <td>0</td>\n",
       "      <td>0</td>\n",
       "      <td>0</td>\n",
       "      <td>0</td>\n",
       "      <td>1</td>\n",
       "      <td>0</td>\n",
       "      <td>1</td>\n",
       "      <td>0</td>\n",
       "    </tr>\n",
       "    <tr>\n",
       "      <th>5416</th>\n",
       "      <td>14.961111</td>\n",
       "      <td>1.491825</td>\n",
       "      <td>2.381489</td>\n",
       "      <td>251.0</td>\n",
       "      <td>10.3523</td>\n",
       "      <td>1008.43</td>\n",
       "      <td>0</td>\n",
       "      <td>0</td>\n",
       "      <td>0</td>\n",
       "      <td>0</td>\n",
       "      <td>0</td>\n",
       "      <td>0</td>\n",
       "      <td>0</td>\n",
       "      <td>0</td>\n",
       "      <td>1</td>\n",
       "      <td>0</td>\n",
       "      <td>0</td>\n",
       "      <td>1</td>\n",
       "      <td>0</td>\n",
       "    </tr>\n",
       "  </tbody>\n",
       "</table>\n",
       "</div>"
      ],
      "text/plain": [
       "       Temperature (C)  Humidity  Wind Speed (km/h)  Wind Bearing (degrees)  \\\n",
       "4789         28.955556  1.786038           2.216896                    63.0   \n",
       "35840        19.822222  2.316367           1.840057                   337.0   \n",
       "18321        23.761111  1.521962           1.400937                   120.0   \n",
       "10073        22.111111  1.768267           2.698814                    43.0   \n",
       "5416         14.961111  1.491825           2.381489                   251.0   \n",
       "\n",
       "       Visibility (km)  Pressure (millibars)  Clear  Drizzle  Foggy  \\\n",
       "4789           11.2700               1017.58      0        0      0   \n",
       "35840           9.9015               1017.87      0        0      0   \n",
       "18321           9.9820               1013.46      0        0      0   \n",
       "10073          11.4471               1012.16      0        0      0   \n",
       "5416           10.3523               1008.43      0        0      0   \n",
       "\n",
       "       Humid and Mostly Cloudy  Humid and Overcast  Humid and Partly Cloudy  \\\n",
       "4789                         0                   0                        0   \n",
       "35840                        0                   0                        0   \n",
       "18321                        0                   0                        0   \n",
       "10073                        0                   0                        0   \n",
       "5416                         0                   0                        0   \n",
       "\n",
       "       Light Rain  Mostly Cloudy  Overcast  Partly Cloudy  Rain  rain  snow  \n",
       "4789            0              0         0              1     0     1     0  \n",
       "35840           0              0         0              1     0     1     0  \n",
       "18321           0              0         0              1     0     1     0  \n",
       "10073           0              0         0              1     0     1     0  \n",
       "5416            0              0         1              0     0     1     0  "
      ]
     },
     "execution_count": 49,
     "metadata": {},
     "output_type": "execute_result"
    }
   ],
   "source": [
    "X_test_transformed.head()"
   ]
  },
  {
   "cell_type": "code",
   "execution_count": 50,
   "metadata": {
    "id": "sl5oyY8qo-MH"
   },
   "outputs": [],
   "source": [
    "#function to display probability plots for each feature available in the dataframe\n",
    "def display_probplots_y(df):\n",
    "  df_without_outliers=df\n",
    "  plt.figure(figsize=(15,7))\n",
    "  plt.tight_layout(h_pad=6)\n",
    "\n",
    "  ax2=plt.subplot(4,2,1)\n",
    "  stats.probplot(df_without_outliers, dist=\"norm\", plot=plt)\n",
    "  ax2.set_title(\"Apparent Temperature (C)\")"
   ]
  },
  {
   "cell_type": "code",
   "execution_count": 51,
   "metadata": {
    "colab": {
     "base_uri": "https://localhost:8080/",
     "height": 161
    },
    "id": "z9IAMBcYoffP",
    "outputId": "b31500c9-dcab-40e6-9e70-2737bc935b1c"
   },
   "outputs": [
    {
     "data": {
      "image/png": "[encoded data removed]",
      "text/plain": [
       "<Figure size 1080x504 with 1 Axes>"
      ]
     },
     "metadata": {
      "needs_background": "light"
     },
     "output_type": "display_data"
    }
   ],
   "source": [
    "# calling the function\n",
    "display_probplots_y(y_train) #seems no need to apply transformations"
   ]
  },
  {
   "cell_type": "code",
   "execution_count": 52,
   "metadata": {
    "colab": {
     "base_uri": "https://localhost:8080/",
     "height": 161
    },
    "id": "Q6YzNC_wofpV",
    "outputId": "4c692c28-49f4-4317-bd3a-588458ca7804"
   },
   "outputs": [
    {
     "data": {
      "image/png": "[encoded data removed]",
      "text/plain": [
       "<Figure size 1080x504 with 1 Axes>"
      ]
     },
     "metadata": {
      "needs_background": "light"
     },
     "output_type": "display_data"
    }
   ],
   "source": [
    "# calling the function\n",
    "display_probplots_y(y_test)#seems no need to apply transformations"
   ]
  },
  {
   "cell_type": "code",
   "execution_count": 53,
   "metadata": {
    "colab": {
     "base_uri": "https://localhost:8080/",
     "height": 285
    },
    "id": "fkH4xsetGPtj",
    "outputId": "74436969-6f0b-4e87-f3e9-52f230c88732"
   },
   "outputs": [
    {
     "data": {
      "text/plain": [
       "<AxesSubplot:>"
      ]
     },
     "execution_count": 53,
     "metadata": {},
     "output_type": "execute_result"
    },
    {
     "data": {
      "image/png": "[encoded data removed]",
      "text/plain": [
       "<Figure size 432x288 with 1 Axes>"
      ]
     },
     "metadata": {
      "needs_background": "light"
     },
     "output_type": "display_data"
    }
   ],
   "source": [
    "y_train.hist()"
   ]
  },
  {
   "cell_type": "code",
   "execution_count": 54,
   "metadata": {
    "colab": {
     "base_uri": "https://localhost:8080/",
     "height": 282
    },
    "id": "3YWFm3UMGP11",
    "outputId": "5c2cb972-fe98-48a7-d7c9-b312cdf7ca6d"
   },
   "outputs": [
    {
     "data": {
      "text/plain": [
       "<AxesSubplot:>"
      ]
     },
     "execution_count": 54,
     "metadata": {},
     "output_type": "execute_result"
    },
    {
     "data": {
      "image/png": "[encoded data removed]",
      "text/plain": [
       "<Figure size 432x288 with 1 Axes>"
      ]
     },
     "metadata": {
      "needs_background": "light"
     },
     "output_type": "display_data"
    }
   ],
   "source": [
    "y_test.hist()"
   ]
  },
  {
   "cell_type": "markdown",
   "metadata": {
    "id": "i2OdE5kp5KDL"
   },
   "source": [
    "### **Feature Scaling**"
   ]
  },
  {
   "cell_type": "code",
   "execution_count": 55,
   "metadata": {
    "id": "ezaGv9RQW-4o"
   },
   "outputs": [],
   "source": [
    "# Standarize features except encoded features in the train datasets\n",
    "from sklearn.preprocessing import StandardScaler\n",
    "from sklearn.decomposition import PCA\n",
    "\n",
    "scaler = StandardScaler()\n",
    "standarized_np_X_train = X_trained_transformed.values\n",
    "standarized_np_X_train[:,:6] = scaler.fit_transform(X_trained_transformed.iloc[:,:6])\n",
    "\n",
    "standarized_np_X_test = X_test_transformed.values\n",
    "standarized_np_X_test[:,:6] = scaler.transform(X_test_transformed.iloc[:,:6])\n",
    "\n",
    "standarized_np_y_train = scaler.fit_transform(y_train.values.reshape(-1,1))\n",
    "\n",
    "standarized_np_y_test = scaler.transform(y_test.values.reshape(-1,1))"
   ]
  },
  {
   "cell_type": "code",
   "execution_count": 56,
   "metadata": {
    "id": "NYOCDr7g6AuL"
   },
   "outputs": [],
   "source": [
    "# transform numpy array to dataframe.\n",
    "normalised_df_X_train=pd.DataFrame(standarized_np_X_train,columns=X_trained_transformed.columns)\n",
    "normalised_df_X_test=pd.DataFrame(standarized_np_X_test,columns=X_test_transformed.columns)\n",
    "normalised_df_y_train=pd.DataFrame(standarized_np_y_train,columns=['Apparent Temperature (C)'])\n",
    "normalised_df_y_test=pd.DataFrame(standarized_np_y_test,columns=['Apparent Temperature (C)'])"
   ]
  },
  {
   "cell_type": "code",
   "execution_count": 57,
   "metadata": {
    "colab": {
     "base_uri": "https://localhost:8080/",
     "height": 275
    },
    "id": "RKDdiXKKbaJ2",
    "outputId": "8c4e63d7-d7e9-46df-c380-a5a0aaefa9fd"
   },
   "outputs": [
    {
     "data": {
      "text/html": [
       "<div>\n",
       "<style scoped>\n",
       "    .dataframe tbody tr th:only-of-type {\n",
       "        vertical-align: middle;\n",
       "    }\n",
       "\n",
       "    .dataframe tbody tr th {\n",
       "        vertical-align: top;\n",
       "    }\n",
       "\n",
       "    .dataframe thead th {\n",
       "        text-align: right;\n",
       "    }\n",
       "</style>\n",
       "<table border=\"1\" class=\"dataframe\">\n",
       "  <thead>\n",
       "    <tr style=\"text-align: right;\">\n",
       "      <th></th>\n",
       "      <th>Temperature (C)</th>\n",
       "      <th>Humidity</th>\n",
       "      <th>Wind Speed (km/h)</th>\n",
       "      <th>Wind Bearing (degrees)</th>\n",
       "      <th>Visibility (km)</th>\n",
       "      <th>Pressure (millibars)</th>\n",
       "      <th>Clear</th>\n",
       "      <th>Drizzle</th>\n",
       "      <th>Foggy</th>\n",
       "      <th>Humid and Mostly Cloudy</th>\n",
       "      <th>Humid and Overcast</th>\n",
       "      <th>Humid and Partly Cloudy</th>\n",
       "      <th>Light Rain</th>\n",
       "      <th>Mostly Cloudy</th>\n",
       "      <th>Overcast</th>\n",
       "      <th>Partly Cloudy</th>\n",
       "      <th>Rain</th>\n",
       "      <th>rain</th>\n",
       "      <th>snow</th>\n",
       "    </tr>\n",
       "  </thead>\n",
       "  <tbody>\n",
       "    <tr>\n",
       "      <th>0</th>\n",
       "      <td>1.187345</td>\n",
       "      <td>-0.555824</td>\n",
       "      <td>0.087950</td>\n",
       "      <td>0.720398</td>\n",
       "      <td>-0.151366</td>\n",
       "      <td>-1.241992</td>\n",
       "      <td>0.0</td>\n",
       "      <td>0.0</td>\n",
       "      <td>0.0</td>\n",
       "      <td>0.0</td>\n",
       "      <td>0.0</td>\n",
       "      <td>0.0</td>\n",
       "      <td>0.0</td>\n",
       "      <td>0.0</td>\n",
       "      <td>0.0</td>\n",
       "      <td>1.0</td>\n",
       "      <td>0.0</td>\n",
       "      <td>1.0</td>\n",
       "      <td>0.0</td>\n",
       "    </tr>\n",
       "    <tr>\n",
       "      <th>1</th>\n",
       "      <td>-1.195630</td>\n",
       "      <td>0.993786</td>\n",
       "      <td>0.269016</td>\n",
       "      <td>-0.349691</td>\n",
       "      <td>-1.549379</td>\n",
       "      <td>0.512085</td>\n",
       "      <td>0.0</td>\n",
       "      <td>0.0</td>\n",
       "      <td>0.0</td>\n",
       "      <td>0.0</td>\n",
       "      <td>0.0</td>\n",
       "      <td>0.0</td>\n",
       "      <td>0.0</td>\n",
       "      <td>1.0</td>\n",
       "      <td>0.0</td>\n",
       "      <td>0.0</td>\n",
       "      <td>0.0</td>\n",
       "      <td>1.0</td>\n",
       "      <td>0.0</td>\n",
       "    </tr>\n",
       "    <tr>\n",
       "      <th>2</th>\n",
       "      <td>0.105370</td>\n",
       "      <td>1.442872</td>\n",
       "      <td>-1.780771</td>\n",
       "      <td>-0.094006</td>\n",
       "      <td>-0.247926</td>\n",
       "      <td>-1.466873</td>\n",
       "      <td>0.0</td>\n",
       "      <td>0.0</td>\n",
       "      <td>0.0</td>\n",
       "      <td>0.0</td>\n",
       "      <td>0.0</td>\n",
       "      <td>0.0</td>\n",
       "      <td>0.0</td>\n",
       "      <td>0.0</td>\n",
       "      <td>0.0</td>\n",
       "      <td>1.0</td>\n",
       "      <td>0.0</td>\n",
       "      <td>1.0</td>\n",
       "      <td>0.0</td>\n",
       "    </tr>\n",
       "    <tr>\n",
       "      <th>3</th>\n",
       "      <td>0.439537</td>\n",
       "      <td>0.709020</td>\n",
       "      <td>0.038464</td>\n",
       "      <td>1.515863</td>\n",
       "      <td>-0.231133</td>\n",
       "      <td>-0.017252</td>\n",
       "      <td>0.0</td>\n",
       "      <td>0.0</td>\n",
       "      <td>0.0</td>\n",
       "      <td>0.0</td>\n",
       "      <td>0.0</td>\n",
       "      <td>0.0</td>\n",
       "      <td>0.0</td>\n",
       "      <td>1.0</td>\n",
       "      <td>0.0</td>\n",
       "      <td>0.0</td>\n",
       "      <td>0.0</td>\n",
       "      <td>1.0</td>\n",
       "      <td>0.0</td>\n",
       "    </tr>\n",
       "    <tr>\n",
       "      <th>4</th>\n",
       "      <td>-0.507270</td>\n",
       "      <td>0.435420</td>\n",
       "      <td>0.409286</td>\n",
       "      <td>-0.226584</td>\n",
       "      <td>-1.012005</td>\n",
       "      <td>-0.129693</td>\n",
       "      <td>0.0</td>\n",
       "      <td>0.0</td>\n",
       "      <td>0.0</td>\n",
       "      <td>0.0</td>\n",
       "      <td>0.0</td>\n",
       "      <td>0.0</td>\n",
       "      <td>0.0</td>\n",
       "      <td>0.0</td>\n",
       "      <td>1.0</td>\n",
       "      <td>0.0</td>\n",
       "      <td>0.0</td>\n",
       "      <td>1.0</td>\n",
       "      <td>0.0</td>\n",
       "    </tr>\n",
       "  </tbody>\n",
       "</table>\n",
       "</div>"
      ],
      "text/plain": [
       "   Temperature (C)  Humidity  Wind Speed (km/h)  Wind Bearing (degrees)  \\\n",
       "0         1.187345 -0.555824           0.087950                0.720398   \n",
       "1        -1.195630  0.993786           0.269016               -0.349691   \n",
       "2         0.105370  1.442872          -1.780771               -0.094006   \n",
       "3         0.439537  0.709020           0.038464                1.515863   \n",
       "4        -0.507270  0.435420           0.409286               -0.226584   \n",
       "\n",
       "   Visibility (km)  Pressure (millibars)  Clear  Drizzle  Foggy  \\\n",
       "0        -0.151366             -1.241992    0.0      0.0    0.0   \n",
       "1        -1.549379              0.512085    0.0      0.0    0.0   \n",
       "2        -0.247926             -1.466873    0.0      0.0    0.0   \n",
       "3        -0.231133             -0.017252    0.0      0.0    0.0   \n",
       "4        -1.012005             -0.129693    0.0      0.0    0.0   \n",
       "\n",
       "   Humid and Mostly Cloudy  Humid and Overcast  Humid and Partly Cloudy  \\\n",
       "0                      0.0                 0.0                      0.0   \n",
       "1                      0.0                 0.0                      0.0   \n",
       "2                      0.0                 0.0                      0.0   \n",
       "3                      0.0                 0.0                      0.0   \n",
       "4                      0.0                 0.0                      0.0   \n",
       "\n",
       "   Light Rain  Mostly Cloudy  Overcast  Partly Cloudy  Rain  rain  snow  \n",
       "0         0.0            0.0       0.0            1.0   0.0   1.0   0.0  \n",
       "1         0.0            1.0       0.0            0.0   0.0   1.0   0.0  \n",
       "2         0.0            0.0       0.0            1.0   0.0   1.0   0.0  \n",
       "3         0.0            1.0       0.0            0.0   0.0   1.0   0.0  \n",
       "4         0.0            0.0       1.0            0.0   0.0   1.0   0.0  "
      ]
     },
     "execution_count": 57,
     "metadata": {},
     "output_type": "execute_result"
    }
   ],
   "source": [
    "normalised_df_X_train.head()\n"
   ]
  },
  {
   "cell_type": "code",
   "execution_count": 58,
   "metadata": {
    "colab": {
     "base_uri": "https://localhost:8080/",
     "height": 275
    },
    "id": "Rf5QTUN76DiW",
    "outputId": "f2deea48-7568-4ccb-e4d8-4b21153e29fe"
   },
   "outputs": [
    {
     "data": {
      "text/html": [
       "<div>\n",
       "<style scoped>\n",
       "    .dataframe tbody tr th:only-of-type {\n",
       "        vertical-align: middle;\n",
       "    }\n",
       "\n",
       "    .dataframe tbody tr th {\n",
       "        vertical-align: top;\n",
       "    }\n",
       "\n",
       "    .dataframe thead th {\n",
       "        text-align: right;\n",
       "    }\n",
       "</style>\n",
       "<table border=\"1\" class=\"dataframe\">\n",
       "  <thead>\n",
       "    <tr style=\"text-align: right;\">\n",
       "      <th></th>\n",
       "      <th>Temperature (C)</th>\n",
       "      <th>Humidity</th>\n",
       "      <th>Wind Speed (km/h)</th>\n",
       "      <th>Wind Bearing (degrees)</th>\n",
       "      <th>Visibility (km)</th>\n",
       "      <th>Pressure (millibars)</th>\n",
       "      <th>Clear</th>\n",
       "      <th>Drizzle</th>\n",
       "      <th>Foggy</th>\n",
       "      <th>Humid and Mostly Cloudy</th>\n",
       "      <th>Humid and Overcast</th>\n",
       "      <th>Humid and Partly Cloudy</th>\n",
       "      <th>Light Rain</th>\n",
       "      <th>Mostly Cloudy</th>\n",
       "      <th>Overcast</th>\n",
       "      <th>Partly Cloudy</th>\n",
       "      <th>Rain</th>\n",
       "      <th>rain</th>\n",
       "      <th>snow</th>\n",
       "    </tr>\n",
       "  </thead>\n",
       "  <tbody>\n",
       "    <tr>\n",
       "      <th>0</th>\n",
       "      <td>1.865067</td>\n",
       "      <td>-0.995050</td>\n",
       "      <td>-0.211179</td>\n",
       "      <td>-1.201975</td>\n",
       "      <td>0.087933</td>\n",
       "      <td>0.173032</td>\n",
       "      <td>0.0</td>\n",
       "      <td>0.0</td>\n",
       "      <td>0.0</td>\n",
       "      <td>0.0</td>\n",
       "      <td>0.0</td>\n",
       "      <td>0.0</td>\n",
       "      <td>0.0</td>\n",
       "      <td>0.0</td>\n",
       "      <td>0.0</td>\n",
       "      <td>1.0</td>\n",
       "      <td>0.0</td>\n",
       "      <td>1.0</td>\n",
       "      <td>0.0</td>\n",
       "    </tr>\n",
       "    <tr>\n",
       "      <th>1</th>\n",
       "      <td>0.836282</td>\n",
       "      <td>0.570852</td>\n",
       "      <td>-0.972359</td>\n",
       "      <td>1.392755</td>\n",
       "      <td>-0.268917</td>\n",
       "      <td>0.223198</td>\n",
       "      <td>0.0</td>\n",
       "      <td>0.0</td>\n",
       "      <td>0.0</td>\n",
       "      <td>0.0</td>\n",
       "      <td>0.0</td>\n",
       "      <td>0.0</td>\n",
       "      <td>0.0</td>\n",
       "      <td>0.0</td>\n",
       "      <td>0.0</td>\n",
       "      <td>1.0</td>\n",
       "      <td>0.0</td>\n",
       "      <td>1.0</td>\n",
       "      <td>0.0</td>\n",
       "    </tr>\n",
       "    <tr>\n",
       "      <th>2</th>\n",
       "      <td>1.279961</td>\n",
       "      <td>-1.774790</td>\n",
       "      <td>-1.859343</td>\n",
       "      <td>-0.662195</td>\n",
       "      <td>-0.247926</td>\n",
       "      <td>-0.539669</td>\n",
       "      <td>0.0</td>\n",
       "      <td>0.0</td>\n",
       "      <td>0.0</td>\n",
       "      <td>0.0</td>\n",
       "      <td>0.0</td>\n",
       "      <td>0.0</td>\n",
       "      <td>0.0</td>\n",
       "      <td>0.0</td>\n",
       "      <td>0.0</td>\n",
       "      <td>1.0</td>\n",
       "      <td>0.0</td>\n",
       "      <td>1.0</td>\n",
       "      <td>0.0</td>\n",
       "    </tr>\n",
       "    <tr>\n",
       "      <th>3</th>\n",
       "      <td>1.094104</td>\n",
       "      <td>-1.047524</td>\n",
       "      <td>0.762251</td>\n",
       "      <td>-1.391371</td>\n",
       "      <td>0.134114</td>\n",
       "      <td>-0.764551</td>\n",
       "      <td>0.0</td>\n",
       "      <td>0.0</td>\n",
       "      <td>0.0</td>\n",
       "      <td>0.0</td>\n",
       "      <td>0.0</td>\n",
       "      <td>0.0</td>\n",
       "      <td>0.0</td>\n",
       "      <td>0.0</td>\n",
       "      <td>0.0</td>\n",
       "      <td>1.0</td>\n",
       "      <td>0.0</td>\n",
       "      <td>1.0</td>\n",
       "      <td>0.0</td>\n",
       "    </tr>\n",
       "    <tr>\n",
       "      <th>4</th>\n",
       "      <td>0.288724</td>\n",
       "      <td>-1.863776</td>\n",
       "      <td>0.121282</td>\n",
       "      <td>0.578351</td>\n",
       "      <td>-0.151366</td>\n",
       "      <td>-1.409788</td>\n",
       "      <td>0.0</td>\n",
       "      <td>0.0</td>\n",
       "      <td>0.0</td>\n",
       "      <td>0.0</td>\n",
       "      <td>0.0</td>\n",
       "      <td>0.0</td>\n",
       "      <td>0.0</td>\n",
       "      <td>0.0</td>\n",
       "      <td>1.0</td>\n",
       "      <td>0.0</td>\n",
       "      <td>0.0</td>\n",
       "      <td>1.0</td>\n",
       "      <td>0.0</td>\n",
       "    </tr>\n",
       "  </tbody>\n",
       "</table>\n",
       "</div>"
      ],
      "text/plain": [
       "   Temperature (C)  Humidity  Wind Speed (km/h)  Wind Bearing (degrees)  \\\n",
       "0         1.865067 -0.995050          -0.211179               -1.201975   \n",
       "1         0.836282  0.570852          -0.972359                1.392755   \n",
       "2         1.279961 -1.774790          -1.859343               -0.662195   \n",
       "3         1.094104 -1.047524           0.762251               -1.391371   \n",
       "4         0.288724 -1.863776           0.121282                0.578351   \n",
       "\n",
       "   Visibility (km)  Pressure (millibars)  Clear  Drizzle  Foggy  \\\n",
       "0         0.087933              0.173032    0.0      0.0    0.0   \n",
       "1        -0.268917              0.223198    0.0      0.0    0.0   \n",
       "2        -0.247926             -0.539669    0.0      0.0    0.0   \n",
       "3         0.134114             -0.764551    0.0      0.0    0.0   \n",
       "4        -0.151366             -1.409788    0.0      0.0    0.0   \n",
       "\n",
       "   Humid and Mostly Cloudy  Humid and Overcast  Humid and Partly Cloudy  \\\n",
       "0                      0.0                 0.0                      0.0   \n",
       "1                      0.0                 0.0                      0.0   \n",
       "2                      0.0                 0.0                      0.0   \n",
       "3                      0.0                 0.0                      0.0   \n",
       "4                      0.0                 0.0                      0.0   \n",
       "\n",
       "   Light Rain  Mostly Cloudy  Overcast  Partly Cloudy  Rain  rain  snow  \n",
       "0         0.0            0.0       0.0            1.0   0.0   1.0   0.0  \n",
       "1         0.0            0.0       0.0            1.0   0.0   1.0   0.0  \n",
       "2         0.0            0.0       0.0            1.0   0.0   1.0   0.0  \n",
       "3         0.0            0.0       0.0            1.0   0.0   1.0   0.0  \n",
       "4         0.0            0.0       1.0            0.0   0.0   1.0   0.0  "
      ]
     },
     "execution_count": 58,
     "metadata": {},
     "output_type": "execute_result"
    }
   ],
   "source": [
    "normalised_df_X_test.head()"
   ]
  },
  {
   "cell_type": "code",
   "execution_count": 59,
   "metadata": {
    "colab": {
     "base_uri": "https://localhost:8080/",
     "height": 204
    },
    "id": "edXk1Q_Tukqr",
    "outputId": "037a63f6-d14d-417c-f23a-99ac51666a83"
   },
   "outputs": [
    {
     "data": {
      "text/html": [
       "<div>\n",
       "<style scoped>\n",
       "    .dataframe tbody tr th:only-of-type {\n",
       "        vertical-align: middle;\n",
       "    }\n",
       "\n",
       "    .dataframe tbody tr th {\n",
       "        vertical-align: top;\n",
       "    }\n",
       "\n",
       "    .dataframe thead th {\n",
       "        text-align: right;\n",
       "    }\n",
       "</style>\n",
       "<table border=\"1\" class=\"dataframe\">\n",
       "  <thead>\n",
       "    <tr style=\"text-align: right;\">\n",
       "      <th></th>\n",
       "      <th>Apparent Temperature (C)</th>\n",
       "    </tr>\n",
       "  </thead>\n",
       "  <tbody>\n",
       "    <tr>\n",
       "      <th>0</th>\n",
       "      <td>1.140337</td>\n",
       "    </tr>\n",
       "    <tr>\n",
       "      <th>1</th>\n",
       "      <td>-1.262873</td>\n",
       "    </tr>\n",
       "    <tr>\n",
       "      <th>2</th>\n",
       "      <td>0.188631</td>\n",
       "    </tr>\n",
       "    <tr>\n",
       "      <th>3</th>\n",
       "      <td>0.482565</td>\n",
       "    </tr>\n",
       "    <tr>\n",
       "      <th>4</th>\n",
       "      <td>-0.551157</td>\n",
       "    </tr>\n",
       "  </tbody>\n",
       "</table>\n",
       "</div>"
      ],
      "text/plain": [
       "   Apparent Temperature (C)\n",
       "0                  1.140337\n",
       "1                 -1.262873\n",
       "2                  0.188631\n",
       "3                  0.482565\n",
       "4                 -0.551157"
      ]
     },
     "execution_count": 59,
     "metadata": {},
     "output_type": "execute_result"
    }
   ],
   "source": [
    "normalised_df_y_train.head()"
   ]
  },
  {
   "cell_type": "code",
   "execution_count": 60,
   "metadata": {
    "colab": {
     "base_uri": "https://localhost:8080/",
     "height": 204
    },
    "id": "rHmspDy2uoBR",
    "outputId": "45408fc6-690d-4902-8493-5efac668bfe6"
   },
   "outputs": [
    {
     "data": {
      "text/html": [
       "<div>\n",
       "<style scoped>\n",
       "    .dataframe tbody tr th:only-of-type {\n",
       "        vertical-align: middle;\n",
       "    }\n",
       "\n",
       "    .dataframe tbody tr th {\n",
       "        vertical-align: top;\n",
       "    }\n",
       "\n",
       "    .dataframe thead th {\n",
       "        text-align: right;\n",
       "    }\n",
       "</style>\n",
       "<table border=\"1\" class=\"dataframe\">\n",
       "  <thead>\n",
       "    <tr style=\"text-align: right;\">\n",
       "      <th></th>\n",
       "      <th>Apparent Temperature (C)</th>\n",
       "    </tr>\n",
       "  </thead>\n",
       "  <tbody>\n",
       "    <tr>\n",
       "      <th>0</th>\n",
       "      <td>1.910950</td>\n",
       "    </tr>\n",
       "    <tr>\n",
       "      <th>1</th>\n",
       "      <td>0.831542</td>\n",
       "    </tr>\n",
       "    <tr>\n",
       "      <th>2</th>\n",
       "      <td>1.221802</td>\n",
       "    </tr>\n",
       "    <tr>\n",
       "      <th>3</th>\n",
       "      <td>1.058322</td>\n",
       "    </tr>\n",
       "    <tr>\n",
       "      <th>4</th>\n",
       "      <td>0.349909</td>\n",
       "    </tr>\n",
       "  </tbody>\n",
       "</table>\n",
       "</div>"
      ],
      "text/plain": [
       "   Apparent Temperature (C)\n",
       "0                  1.910950\n",
       "1                  0.831542\n",
       "2                  1.221802\n",
       "3                  1.058322\n",
       "4                  0.349909"
      ]
     },
     "execution_count": 60,
     "metadata": {},
     "output_type": "execute_result"
    }
   ],
   "source": [
    "normalised_df_y_test.head()"
   ]
  },
  {
   "cell_type": "markdown",
   "metadata": {
    "id": "dov42i2kk-bo"
   },
   "source": [
    "### **Identifying significant and independent features**"
   ]
  },
  {
   "cell_type": "code",
   "execution_count": 61,
   "metadata": {
    "colab": {
     "base_uri": "https://localhost:8080/",
     "height": 541
    },
    "id": "2kUFcED-F86f",
    "outputId": "048298d5-0724-41aa-9d0e-2600ad3d5354"
   },
   "outputs": [
    {
     "data": {
      "image/png": "[encoded data removed]",
      "text/plain": [
       "<Figure size 864x504 with 2 Axes>"
      ]
     },
     "metadata": {
      "needs_background": "light"
     },
     "output_type": "display_data"
    }
   ],
   "source": [
    "# Checking the features of X are independent or not\n",
    "import seaborn as sns\n",
    "plt.figure(figsize=(12,7))\n",
    "sns.heatmap(X.iloc[:,:6].corr(),annot=True); #seems the features are independent."
   ]
  },
  {
   "cell_type": "markdown",
   "metadata": {
    "id": "Dbnn9qcQke4a"
   },
   "source": [
    "We can identify that the features are not highly correlated with other features. So we can tell that the features are independent. If there is a highly correlated feature set available, one feature from those highly correlated set can be removed. Because one feature may be a derived variable of another. However, before removing a feature, we need to be well-familiarized about the dataset. Though there can be a high correlation between variables, it can be the case where one feature cannot be derived from the other one."
   ]
  },
  {
   "cell_type": "code",
   "execution_count": 62,
   "metadata": {
    "colab": {
     "base_uri": "https://localhost:8080/",
     "height": 728
    },
    "id": "Z7VCtnaHGEGG",
    "outputId": "b81cd57b-8aff-4e12-e334-f624577f31c0"
   },
   "outputs": [
    {
     "name": "stdout",
     "output_type": "stream",
     "text": [
      "                        Temperature (C)  Humidity  Wind Speed (km/h)  \\\n",
      "Temperature (C)                1.000000 -0.598898          -0.017217   \n",
      "Humidity                      -0.598898  1.000000          -0.206519   \n",
      "Wind Speed (km/h)             -0.017217 -0.206519           1.000000   \n",
      "Wind Bearing (degrees)         0.007572  0.037933           0.035836   \n",
      "Visibility (km)                0.345348 -0.300023           0.028046   \n",
      "Pressure (millibars)          -0.296969  0.023962          -0.150271   \n",
      "Apparent Temperature           0.994357 -0.574879          -0.072181   \n",
      "\n",
      "                        Wind Bearing (degrees)  Visibility (km)  \\\n",
      "Temperature (C)                       0.007572         0.345348   \n",
      "Humidity                              0.037933        -0.300023   \n",
      "Wind Speed (km/h)                     0.035836         0.028046   \n",
      "Wind Bearing (degrees)                1.000000         0.047680   \n",
      "Visibility (km)                       0.047680         1.000000   \n",
      "Pressure (millibars)                 -0.063103        -0.103495   \n",
      "Apparent Temperature                  0.010551         0.341396   \n",
      "\n",
      "                        Pressure (millibars)  Apparent Temperature  \n",
      "Temperature (C)                    -0.296969              0.994357  \n",
      "Humidity                            0.023962             -0.574879  \n",
      "Wind Speed (km/h)                  -0.150271             -0.072181  \n",
      "Wind Bearing (degrees)             -0.063103              0.010551  \n",
      "Visibility (km)                    -0.103495              0.341396  \n",
      "Pressure (millibars)                1.000000             -0.284363  \n",
      "Apparent Temperature               -0.284363              1.000000  \n"
     ]
    },
    {
     "data": {
      "text/plain": [
       "<AxesSubplot:>"
      ]
     },
     "execution_count": 62,
     "metadata": {},
     "output_type": "execute_result"
    },
    {
     "data": {
      "image/png": "[encoded data removed]",
      "text/plain": [
       "<Figure size 864x504 with 2 Axes>"
      ]
     },
     "metadata": {
      "needs_background": "light"
     },
     "output_type": "display_data"
    }
   ],
   "source": [
    "#testinf the signifncance of the features\n",
    "plt.figure(figsize=(12,7))\n",
    "x_data = X.iloc[:,:6].copy()\n",
    "x_data['Apparent Temperature'] = y\n",
    "print(x_data.corr())\n",
    "sns.heatmap(x_data.corr(),annot=True) #Seems features are signifncant"
   ]
  },
  {
   "cell_type": "markdown",
   "metadata": {
    "id": "Fff7P0s3lT5p"
   },
   "source": [
    "\n",
    "From the above heatmap, we can see that the features such as 'temperature', 'Humidity', 'Visibility' are significant. Because they have high correlation with the dependent variable('Apparent Temperature').\n"
   ]
  },
  {
   "cell_type": "markdown",
   "metadata": {
    "id": "74E55aXwljJH"
   },
   "source": [
    "\n",
    "But this approach is not good for huge datasets. Because we have to manually go through each and every correlation value to select significant features. It's a tedious task. Don't worry, we have an amazing technique called 'Principle Component Analysis(PCA)'."
   ]
  },
  {
   "cell_type": "markdown",
   "metadata": {
    "id": "XSFFX2LA6HvM"
   },
   "source": [
    "### **Applying Principle Component Analysis (PCA)**"
   ]
  },
  {
   "cell_type": "code",
   "execution_count": 63,
   "metadata": {
    "id": "GZmmqTwJc6_c"
   },
   "outputs": [],
   "source": [
    "# Applying PCA to normalised X_train dataframe\n",
    "from sklearn.decomposition import PCA\n",
    "pca = PCA()\n",
    "X_pca = pca.fit_transform(normalised_df_X_train)"
   ]
  },
  {
   "cell_type": "code",
   "execution_count": 64,
   "metadata": {
    "colab": {
     "base_uri": "https://localhost:8080/"
    },
    "id": "GsBzaZ0Vc7Bg",
    "outputId": "cee23fa8-699e-4f0d-df95-594bf3e87060"
   },
   "outputs": [
    {
     "data": {
      "text/plain": [
       "array([2.93824185e-01, 1.62120976e-01, 1.47707108e-01, 1.35647719e-01,\n",
       "       1.05222452e-01, 4.67477973e-02, 4.53945093e-02, 2.68135936e-02,\n",
       "       1.70432395e-02, 1.41007729e-02, 5.02328147e-03, 1.42602847e-04,\n",
       "       8.02922212e-05, 6.08709160e-05, 4.21616920e-05, 1.72748684e-05,\n",
       "       1.11636314e-05, 1.40969460e-33, 2.83775396e-34])"
      ]
     },
     "execution_count": 64,
     "metadata": {},
     "output_type": "execute_result"
    }
   ],
   "source": [
    "# get the variance ratio array.\n",
    "explained_variance=pca.explained_variance_ratio_\n",
    "explained_variance"
   ]
  },
  {
   "cell_type": "code",
   "execution_count": 65,
   "metadata": {
    "id": "9UXD8lrZ0hpF"
   },
   "outputs": [],
   "source": [
    "# function too get no of significant features to be selected from the above variance ratio array\n",
    "def count_dimension(arr1):\n",
    "  print(arr1)\n",
    "  sum=0\n",
    "  count=0\n",
    "  for i in arr1:\n",
    "    sum+=i\n",
    "    count +=1\n",
    "    if(sum>=0.95):\n",
    "      return count\n",
    "  return -1\n",
    "    "
   ]
  },
  {
   "cell_type": "code",
   "execution_count": 66,
   "metadata": {
    "colab": {
     "base_uri": "https://localhost:8080/"
    },
    "id": "cws7mWFA0jnk",
    "outputId": "de23426e-e418-4784-c90e-dee11e968251"
   },
   "outputs": [
    {
     "name": "stdout",
     "output_type": "stream",
     "text": [
      "[2.93824185e-01 1.62120976e-01 1.47707108e-01 1.35647719e-01\n",
      " 1.05222452e-01 4.67477973e-02 4.53945093e-02 2.68135936e-02\n",
      " 1.70432395e-02 1.41007729e-02 5.02328147e-03 1.42602847e-04\n",
      " 8.02922212e-05 6.08709160e-05 4.21616920e-05 1.72748684e-05\n",
      " 1.11636314e-05 1.40969460e-33 2.83775396e-34]\n",
      "No of features needed to be extracted : 8\n"
     ]
    }
   ],
   "source": [
    "print(f\"No of features needed to be extracted : {count_dimension(explained_variance)}\")"
   ]
  },
  {
   "cell_type": "code",
   "execution_count": 67,
   "metadata": {
    "id": "x6f7Ri2zUtn4"
   },
   "outputs": [],
   "source": [
    "#selecting no of features as 8 and apply PCA\n",
    "pca=PCA(n_components=8)\n",
    "X_train_pca=pca.fit_transform(normalised_df_X_train)\n",
    "X_test_pca=pca.transform(normalised_df_X_test)"
   ]
  },
  {
   "cell_type": "code",
   "execution_count": 68,
   "metadata": {
    "id": "goj1Wkz2GnrP"
   },
   "outputs": [],
   "source": [
    "#Applying linear regression model\n",
    "from sklearn.linear_model import LinearRegression\n",
    "\n",
    "regressor = LinearRegression()\n",
    "model= regressor.fit(X_train_pca,normalised_df_y_train)"
   ]
  },
  {
   "cell_type": "code",
   "execution_count": 69,
   "metadata": {
    "colab": {
     "base_uri": "https://localhost:8080/"
    },
    "id": "n7eVJrEWeSVo",
    "outputId": "393de334-b9d0-438a-a3db-d6c504ca5cc6"
   },
   "outputs": [
    {
     "data": {
      "text/plain": [
       "array([[ 1.77390486],\n",
       "       [ 0.86675819],\n",
       "       [ 1.37826599],\n",
       "       ...,\n",
       "       [-0.03924672],\n",
       "       [ 1.96663285],\n",
       "       [ 1.56295588]])"
      ]
     },
     "execution_count": 69,
     "metadata": {},
     "output_type": "execute_result"
    }
   ],
   "source": [
    "# get y predictions to the given X_test_pca\n",
    "y_pred =regressor.predict(X_test_pca)\n",
    "y_pred"
   ]
  },
  {
   "cell_type": "markdown",
   "metadata": {
    "id": "u5WMsCaT9B0z"
   },
   "source": [
    "### **Evaluating the regression Model**"
   ]
  },
  {
   "cell_type": "markdown",
   "metadata": {
    "id": "wqvI2vwjl19g"
   },
   "source": [
    "To evaluate the linear regression model, I am using following measures.\n",
    "<ul>\n",
    "<li>Mean Squared Error(MSE)</li>\n",
    "<li>Root Mean Squared Error(RMSE)</li>\n",
    "<li>Mean Absolute Error(MASE)</li>\n",
    "</ul>"
   ]
  },
  {
   "cell_type": "code",
   "execution_count": 70,
   "metadata": {
    "colab": {
     "base_uri": "https://localhost:8080/"
    },
    "id": "88H_QOm-wdJo",
    "outputId": "56fc4e72-5f4f-4176-e2c1-7f3f6bdea8a6"
   },
   "outputs": [
    {
     "data": {
      "text/plain": [
       "0.9850936532317174"
      ]
     },
     "execution_count": 70,
     "metadata": {},
     "output_type": "execute_result"
    }
   ],
   "source": [
    "# r2 score of the model\n",
    "from sklearn import metrics\n",
    "accuracy = metrics.r2_score(normalised_df_y_test, y_pred)\n",
    "accuracy"
   ]
  },
  {
   "cell_type": "code",
   "execution_count": 71,
   "metadata": {
    "colab": {
     "base_uri": "https://localhost:8080/"
    },
    "id": "JzTxE08yeSaA",
    "outputId": "8fd7d8e6-48a8-4247-9847-6643c3463408"
   },
   "outputs": [
    {
     "data": {
      "text/plain": [
       "0.12245368465805054"
      ]
     },
     "execution_count": 71,
     "metadata": {},
     "output_type": "execute_result"
    }
   ],
   "source": [
    "# Root Mean Square Error of the model\n",
    "from math import sqrt\n",
    "from sklearn.metrics import mean_squared_error\n",
    "rmse = sqrt(mean_squared_error(normalised_df_y_test, y_pred))\n",
    "rmse"
   ]
  },
  {
   "cell_type": "code",
   "execution_count": 72,
   "metadata": {
    "colab": {
     "base_uri": "https://localhost:8080/"
    },
    "id": "4_OM_dV4xOLE",
    "outputId": "cc897d9a-4463-446a-a816-d35e039c6f5c"
   },
   "outputs": [
    {
     "data": {
      "text/plain": [
       "0.014994904886333281"
      ]
     },
     "execution_count": 72,
     "metadata": {},
     "output_type": "execute_result"
    }
   ],
   "source": [
    "# Mean Square Error of the model\n",
    "from math import sqrt\n",
    "mse = mean_squared_error(normalised_df_y_test, y_pred)\n",
    "mse"
   ]
  },
  {
   "cell_type": "code",
   "execution_count": 73,
   "metadata": {
    "colab": {
     "base_uri": "https://localhost:8080/",
     "height": 458
    },
    "id": "XOwJPNgUA42F",
    "outputId": "5c22c20c-c47a-4d5c-c860-fba4017232ba"
   },
   "outputs": [
    {
     "data": {
      "image/png": "[encoded data removed]",
      "text/plain": [
       "<Figure size 864x504 with 1 Axes>"
      ]
     },
     "metadata": {
      "needs_background": "light"
     },
     "output_type": "display_data"
    }
   ],
   "source": [
    "# Displaying deviations between actual and predicted values from a graph\n",
    "plt.figure(figsize=(12,7))\n",
    "finaldataframe =pd.DataFrame({'actual':normalised_df_y_test.values[:,0],'prediction':y_pred[:,0]})\n",
    "\n",
    "finaldataframe2=finaldataframe.reset_index(drop=True)\n",
    "plt.plot(finaldataframe2['prediction'][:150], label = \"Pred\")\n",
    "plt.plot(finaldataframe2['actual'][:150], label = \"Actual\")\n",
    "plt.xlabel('x - axis')\n",
    "\n",
    "plt.ylabel('y - axis')\n",
    "\n",
    "plt.title('Deviations between actual and predicted values.')\n",
    "\n",
    "plt.legend()\n",
    "\n",
    "plt.show()"
   ]
  },
  {
   "cell_type": "code",
   "execution_count": 74,
   "metadata": {
    "colab": {
     "base_uri": "https://localhost:8080/"
    },
    "id": "V1jp-b3XXOKI",
    "outputId": "24d44e33-9efc-468e-f723-96974a0ff40a"
   },
   "outputs": [
    {
     "data": {
      "text/plain": [
       "array([-1.84956791e-16])"
      ]
     },
     "execution_count": 74,
     "metadata": {},
     "output_type": "execute_result"
    }
   ],
   "source": [
    "# intercept of the linear model\n",
    "regressor.intercept_"
   ]
  },
  {
   "cell_type": "code",
   "execution_count": 75,
   "metadata": {
    "colab": {
     "base_uri": "https://localhost:8080/"
    },
    "id": "0oehmM0kXUYi",
    "outputId": "ae91a218-294f-455b-8d7b-bb7c7059977e"
   },
   "outputs": [
    {
     "data": {
      "text/plain": [
       "array([[-0.58246915, -0.15546092, -0.14896864,  0.20234077,  0.36747612,\n",
       "        -0.23579694, -0.55108757,  0.04299515]])"
      ]
     },
     "execution_count": 75,
     "metadata": {},
     "output_type": "execute_result"
    }
   ],
   "source": [
    "# coefficients of the linear model\n",
    "regressor.coef_"
   ]
  },
  {
   "cell_type": "markdown",
   "metadata": {
    "id": "DOwe0xfEQQW0"
   },
   "source": [
    "### **Applying Linear Regression Model Without PCA**"
   ]
  },
  {
   "cell_type": "code",
   "execution_count": 76,
   "metadata": {
    "id": "-FCmdCAORS0L"
   },
   "outputs": [],
   "source": [
    "#Applying linear regression model\n",
    "from sklearn.linear_model import LinearRegression\n",
    "\n",
    "regressor1 = LinearRegression()\n",
    "model= regressor1.fit(normalised_df_X_train.values,normalised_df_y_train.values) # independent feature 'Humidity' and dependent feature 'Apparent temperature'"
   ]
  },
  {
   "cell_type": "code",
   "execution_count": 77,
   "metadata": {
    "colab": {
     "base_uri": "https://localhost:8080/"
    },
    "id": "VZwem3aqQYUW",
    "outputId": "7e4e27c3-50bd-499c-9350-30e2be8641fe"
   },
   "outputs": [
    {
     "data": {
      "text/plain": [
       "array([[ 1.85231353],\n",
       "       [ 0.89760708],\n",
       "       [ 1.34851582],\n",
       "       ...,\n",
       "       [-0.05284907],\n",
       "       [ 2.06013719],\n",
       "       [ 1.58423577]])"
      ]
     },
     "execution_count": 77,
     "metadata": {},
     "output_type": "execute_result"
    }
   ],
   "source": [
    "# get y predictions to the given normalised_df_X_test\n",
    "y_pred1 =regressor1.predict(normalised_df_X_test.values)\n",
    "y_pred1"
   ]
  },
  {
   "cell_type": "code",
   "execution_count": 78,
   "metadata": {
    "colab": {
     "base_uri": "https://localhost:8080/"
    },
    "id": "phkQD02ESuPm",
    "outputId": "d48e02c6-824e-4c51-b01d-ea589475f033"
   },
   "outputs": [
    {
     "data": {
      "text/plain": [
       "0.9921883370102922"
      ]
     },
     "execution_count": 78,
     "metadata": {},
     "output_type": "execute_result"
    }
   ],
   "source": [
    "# r2 score of the model\n",
    "from sklearn import metrics\n",
    "accuracy = metrics.r2_score(normalised_df_y_test, y_pred1)\n",
    "accuracy"
   ]
  },
  {
   "cell_type": "code",
   "execution_count": 79,
   "metadata": {
    "colab": {
     "base_uri": "https://localhost:8080/"
    },
    "id": "4dKgoyoeQnjL",
    "outputId": "4281674c-a5bb-426f-a729-c8a4cbc272a7"
   },
   "outputs": [
    {
     "data": {
      "text/plain": [
       "0.08864576596623977"
      ]
     },
     "execution_count": 79,
     "metadata": {},
     "output_type": "execute_result"
    }
   ],
   "source": [
    "# Root Mean Square Error of the model\n",
    "from math import sqrt\n",
    "from sklearn.metrics import mean_squared_error\n",
    "rmse = sqrt(mean_squared_error(normalised_df_y_test, y_pred1))\n",
    "rmse"
   ]
  },
  {
   "cell_type": "code",
   "execution_count": 80,
   "metadata": {
    "colab": {
     "base_uri": "https://localhost:8080/"
    },
    "id": "gDIVcvgLS-Ym",
    "outputId": "0801f50f-8f84-4bd7-8cf5-e3a310912c66"
   },
   "outputs": [
    {
     "data": {
      "text/plain": [
       "0.007858071823741352"
      ]
     },
     "execution_count": 80,
     "metadata": {},
     "output_type": "execute_result"
    }
   ],
   "source": [
    "# Mean Square Error of the model\n",
    "from math import sqrt\n",
    "mse = mean_squared_error(normalised_df_y_test, y_pred1)\n",
    "mse"
   ]
  },
  {
   "cell_type": "code",
   "execution_count": 81,
   "metadata": {
    "colab": {
     "base_uri": "https://localhost:8080/"
    },
    "id": "y9UM3pRPaCsM",
    "outputId": "210b04f9-5d82-40b4-f722-a2c399218080"
   },
   "outputs": [
    {
     "data": {
      "text/plain": [
       "array([-0.02060485])"
      ]
     },
     "execution_count": 81,
     "metadata": {},
     "output_type": "execute_result"
    }
   ],
   "source": [
    "# intercept of the linear model\n",
    "regressor1.intercept_"
   ]
  },
  {
   "cell_type": "code",
   "execution_count": 82,
   "metadata": {
    "colab": {
     "base_uri": "https://localhost:8080/"
    },
    "id": "gJ-LJH6PaJW0",
    "outputId": "865e0957-703f-44db-81f6-dfb291996c37"
   },
   "outputs": [
    {
     "data": {
      "text/plain": [
       "array([[ 0.995113  ,  0.01070545, -0.05422324,  0.00437068,  0.00177379,\n",
       "         0.00608443, -0.00697161,  0.02082171,  0.02775801, -0.01248659,\n",
       "        -0.02203503, -0.03392828,  0.02023733,  0.00124995, -0.00217751,\n",
       "        -0.00724368,  0.01477568,  0.02745633, -0.02745633]])"
      ]
     },
     "execution_count": 82,
     "metadata": {},
     "output_type": "execute_result"
    }
   ],
   "source": [
    "# coefficients of the linear model\n",
    "regressor1.coef_"
   ]
  },
  {
   "cell_type": "code",
   "execution_count": 83,
   "metadata": {
    "colab": {
     "base_uri": "https://localhost:8080/"
    },
    "id": "kFUpjRsIaK8I",
    "outputId": "ab72f5c3-a237-4ddc-e050-2fa4712076cf"
   },
   "outputs": [
    {
     "data": {
      "text/plain": [
       "array([[15.72150674]])"
      ]
     },
     "execution_count": 83,
     "metadata": {},
     "output_type": "execute_result"
    }
   ],
   "source": [
    "predicted_appearent_temp =  regressor1.predict([[9,0.83,11,259,15.8263,1016.51,0,0,0,0,0,0,0,1,0,0,0,1,0]])\n",
    "predicted_appearent_temp"
   ]
  }
 ],
 "metadata": {
  "colab": {
   "collapsed_sections": [],
   "name": "Solution_174108K.ipynb",
   "provenance": [],
   "toc_visible": true
  },
  "kernelspec": {
   "display_name": "Python 3",
   "language": "python",
   "name": "python3"
  },
  "language_info": {
   "codemirror_mode": {
    "name": "ipython",
    "version": 3
   },
   "file_extension": ".py",
   "mimetype": "text/x-python",
   "name": "python",
   "nbconvert_exporter": "python",
   "pygments_lexer": "ipython3",
   "version": "3.8.5"
  }
 },
 "nbformat": 4,
 "nbformat_minor": 1
}
